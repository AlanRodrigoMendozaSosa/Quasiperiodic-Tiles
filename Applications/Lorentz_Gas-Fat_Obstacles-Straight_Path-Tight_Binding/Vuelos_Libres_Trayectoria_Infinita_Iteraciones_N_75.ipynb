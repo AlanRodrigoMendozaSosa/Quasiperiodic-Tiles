{
 "cells": [
  {
   "cell_type": "markdown",
   "metadata": {},
   "source": [
    "# Paqueterías y funciones necesarias"
   ]
  },
  {
   "cell_type": "code",
   "execution_count": 1,
   "metadata": {},
   "outputs": [
    {
     "data": {
      "text/plain": [
       "multiple_Flies (generic function with 1 method)"
      ]
     },
     "execution_count": 1,
     "metadata": {},
     "output_type": "execute_result"
    }
   ],
   "source": [
    "#Las siguientes paqueterías son requeridas para graficar, cargar y generar archivos y cálculos de álgebra lineal\n",
    "using Plots\n",
    "using DelimitedFiles\n",
    "using LinearAlgebra\n",
    "\n",
    "#Los siguientes archivos con funciones de Julia son requeridos\n",
    "include(\"Operaciones_Basicas.jl\")\n",
    "include(\"Red_Dual.jl\")\n",
    "include(\"Separacion_Arreglos_X_Y.jl\")\n",
    "include(\"Generador_Vecindades_Pto_Arbitrario.jl\")\n",
    "include(\"voronoi.jl\")\n",
    "include(\"Algoritmo_Radio.jl\")\n",
    "include(\"Algoritmo_Voronoi.jl\")\n",
    "include(\"Algoritmo_Cluster_Principal.jl\")\n",
    "include(\"Algoritmo_Parche_Cuadrado.jl\")\n",
    "include(\"Dentro_Fuera_Poligono.jl\")\n",
    "include(\"Diccionario_Indices_Centroides_Voronoi.jl\")\n",
    "include(\"Algoritmo_Dinamica_FFD.jl\")"
   ]
  },
  {
   "cell_type": "markdown",
   "metadata": {},
   "source": [
    "#### Cargamos las funciones que determinan la trayectoria de entrada y salida de los polígonos de Voronoi"
   ]
  },
  {
   "cell_type": "code",
   "execution_count": 2,
   "metadata": {},
   "outputs": [
    {
     "data": {
      "text/plain": [
       "estado_Tras_Tiempo_Rectas (generic function with 1 method)"
      ]
     },
     "execution_count": 2,
     "metadata": {},
     "output_type": "execute_result"
    }
   ],
   "source": [
    "include(\"Esferas_Duras_Trayectoria_Recta.jl\")"
   ]
  },
  {
   "cell_type": "code",
   "execution_count": 3,
   "metadata": {},
   "outputs": [],
   "source": [
    "#We verify the size of the obstacle to consider\n",
    "const Radio_Obstaculo = 0.01;"
   ]
  },
  {
   "cell_type": "code",
   "execution_count": 4,
   "metadata": {},
   "outputs": [
    {
     "data": {
      "text/plain": [
       "0.01"
      ]
     },
     "execution_count": 4,
     "metadata": {},
     "output_type": "execute_result"
    }
   ],
   "source": [
    "#Verificamos el tamaño del obstáculo a considerar\n",
    "Radio_Obstaculo"
   ]
  },
  {
   "cell_type": "markdown",
   "metadata": {},
   "source": [
    "#### Generamos las condiciones que determinan el tipo de arreglo cuasiperiódico que vamos a construir"
   ]
  },
  {
   "cell_type": "code",
   "execution_count": 5,
   "metadata": {},
   "outputs": [],
   "source": [
    "NSides = 75; #Simetría rotacional del arreglo cuasiperiódico a generar\n",
    "Error_Margin = 0; #Margen de error en los números enteros \"n\" asociados a los vectores estrella del MDG\n",
    "Star_Vectors = [[BigFloat(1),0]]; #Arreglo que contendrá a los vectores estrella\n",
    "for i in 1:(NSides-1)\n",
    "    push!(Star_Vectors, [cos((2*i)*pi/NSides), sin((2*i)*pi/NSides)]); #Vértices del polígono de NSides Lados\n",
    "end\n",
    "Alphas_Array = fill(0.2, NSides); #Arreglo de las constantes Alfas del MDG\n",
    "Average_Distance_Stripes = fill(NSides/2, NSides); #Arreglo con la separación promedio entre franjas\n",
    "\n",
    "#Cargamos la información para generar los parches \"circulares\" alrededor de un punto arbitrario\n",
    "Patch_Information = readdlm(\"Informacion_Parche_N_$(NSides).csv\", BigFloat);\n",
    "Reduction_Factor = 0.6; #Factor para generar un \"radio seguro\""
   ]
  },
  {
   "cell_type": "markdown",
   "metadata": {},
   "source": [
    "#### Definimos condiciones sobre el vuelo de una partícula"
   ]
  },
  {
   "cell_type": "code",
   "execution_count": 6,
   "metadata": {},
   "outputs": [],
   "source": [
    "Long_Fly_Time = 5000000; #Tiempo máximo de vuelo que tendrá cada partícula\n",
    "Number_Segments = 10; #Número de iteraciones de vuelos libres que se calcularán\n",
    "Number_Free_Flies = 10; #Número de vuelos libres a calcularan por cada iteración"
   ]
  },
  {
   "cell_type": "markdown",
   "metadata": {},
   "source": [
    "#### Obtenemos la primera colisión de una partícula y su velocidad tras la colisión"
   ]
  },
  {
   "cell_type": "code",
   "execution_count": 7,
   "metadata": {},
   "outputs": [
    {
     "data": {
      "text/plain": [
       "first_Collition (generic function with 1 method)"
      ]
     },
     "execution_count": 7,
     "metadata": {},
     "output_type": "execute_result"
    }
   ],
   "source": [
    "function first_Collition(Error_Margin, Average_Distance_Stripes, Star_Vectors, Alphas_Array, Patch_Information, Reduction_Factor, Long_Fly_Time)\n",
    "    global Array_Free_Fly = []; #Array where the length of the particle's first free flight will be saved\n",
    "    Initial_Position_Obstacle = [0.0, 0.0]; #Position of a particle after colliding with an obstacle\n",
    "    Initial_Velocity_Obstacle = [0.0, 0.0]; #Velocity of a particle after colliding with an obstacle\n",
    "    \n",
    "    APoint_Initial = [0.0,0.0]; #Array that will contain the initial position of the particles\n",
    "    Counter_Iterations = 0; #Counter for the number of attempts made to find a valid starting position.\n",
    "    SL = 1e6; #Size of the half side of the square centered on the (0,0) where a starting position is sought.\n",
    "    \n",
    "    #We look for a valid starting position in 100 attempts, if it is not found, it starts at (0,0)\n",
    "    while Counter_Iterations < 100\n",
    "        Counter_Iterations += 1;\n",
    "        Test_Point = punto_Arbitrario(SL); #We generate an arbitrary point inside the square centered on the (0,0)\n",
    "        Exclusion_Radius = 1.0; #Radius of a circle centered on Test_Point to filter possible container polygons\n",
    "        \n",
    "        #We generate the local neighborhood within the circle with radius \"Exclusion_Radius\" around the Test_Point point\n",
    "        Dual_Points_R = region_Local_Radio(Error_Margin, Exclusion_Radius, Average_Distance_Stripes, Star_Vectors, Alphas_Array, Test_Point);\n",
    "        \n",
    "        #We check if Test_Point falls into some obstacle centered on the vertices of the container polygon\n",
    "        if posicion_Valida_Obstaculos_Circulares(Test_Point, Dual_Points_R)\n",
    "            APoint_Initial = Test_Point; break #We redefine the starting point and close the While loop\n",
    "        end\n",
    "    end\n",
    "    \n",
    "    println(\"The initial position is $(APoint_Initial)\")\n",
    "    \n",
    "    #Algorithm that calculates the trajectories of the different particles\n",
    "    Initial_Position_Obstacle, Initial_Velocity_Obstacle = first_Fly(Patch_Information, Reduction_Factor, Average_Distance_Stripes, Star_Vectors, Alphas_Array, APoint_Initial, Long_Fly_Time, Array_Free_Fly, Initial_Position_Obstacle, Initial_Velocity_Obstacle, cambio_Celda_Esferas_Duras_Trayectoria_Recta, estado_Tras_Tiempo_Rectas);\n",
    "\n",
    "    return Initial_Position_Obstacle, Initial_Velocity_Obstacle\n",
    "end"
   ]
  },
  {
   "cell_type": "code",
   "execution_count": 8,
   "metadata": {},
   "outputs": [
    {
     "name": "stdout",
     "output_type": "stream",
     "text": [
      "The initial position is [23050.75813935753, -990878.5708634449]\n",
      "La velocidad inicial es [0.8524064419477231, 0.5228797736822711]\n"
     ]
    }
   ],
   "source": [
    "Initial_Position_Obstacle, Initial_Velocity_Obstacle = first_Collition(Error_Margin, Average_Distance_Stripes, Star_Vectors, Alphas_Array, Patch_Information, Reduction_Factor, Long_Fly_Time);"
   ]
  },
  {
   "cell_type": "markdown",
   "metadata": {},
   "source": [
    "#### Obtengamos las subsecuentes colisiones de la partícula"
   ]
  },
  {
   "cell_type": "code",
   "execution_count": 9,
   "metadata": {},
   "outputs": [
    {
     "data": {
      "text/plain": [
       "multiple_Collisions (generic function with 1 method)"
      ]
     },
     "execution_count": 9,
     "metadata": {},
     "output_type": "execute_result"
    }
   ],
   "source": [
    "function multiple_Collisions(Number_Segments, Number_Free_Flies, Average_Distance_Stripes, Star_Vectors, Alphas_Array, Patch_Information, Reduction_Factor, Long_Fly_Time, Initial_Position_Obstacle, Initial_Velocity_Obstacle)\n",
    "    Free_Fly_Global = []; #Arreglo donde irán todos los tiempos de vuelos libres\n",
    "\n",
    "    for δ in 1:Number_Segments\n",
    "        open(\"Estado_FFD_N_$(NSides)_Vuelos_Libres_R0_01.txt\", \"w\") do file\n",
    "            write(file, \"Estamos calculando la iteración $(δ).\")\n",
    "        end\n",
    "        #Iteramos sobre el número de colisiones con obstáculos que buscamos\n",
    "        for γ in 1:Number_Free_Flies\n",
    "            tiempo1 = time()\n",
    "\n",
    "            Array_Free_Fly = []; #Arreglo donde se guardará la longitud del vuelo libre de la partícula\n",
    "            #Definimos como posición inicial la última posición al colisionar con un obstáculo.\n",
    "            APoint_Initial = copy(Initial_Position_Obstacle);\n",
    "\n",
    "            Initial_Position_Obstacle, Initial_Velocity_Obstacle = multiple_Flies(Patch_Information, Reduction_Factor, Average_Distance_Stripes, Star_Vectors, Alphas_Array, APoint_Initial, Long_Fly_Time, Array_Free_Fly, Initial_Position_Obstacle, Initial_Velocity_Obstacle, cambio_Celda_Esferas_Duras_Trayectoria_Recta, estado_Tras_Tiempo_Rectas)\n",
    "\n",
    "            #Guardamos la longitud del vuelo libre que acabamos de realizar\n",
    "            Free_Fly_Global = vcat(Free_Fly_Global, Array_Free_Fly)\n",
    "            tiempo2 = time()\n",
    "            println(tiempo2 - tiempo1)\n",
    "        end\n",
    "\n",
    "        writedlm(\"FFD_N_$(NSides)_Vuelos_Libres_R0_01.csv\", Free_Fly_Global)\n",
    "    end\n",
    "    \n",
    "    return Free_Fly_Global\n",
    "end"
   ]
  },
  {
   "cell_type": "code",
   "execution_count": 10,
   "metadata": {
    "scrolled": true
   },
   "outputs": [
    {
     "name": "stdout",
     "output_type": "stream",
     "text": [
      "2.0839998722076416\n",
      "34.05200004577637\n",
      "2.0290000438690186\n",
      "23.73799991607666\n",
      "6.5940001010894775\n",
      "4.4720001220703125\n",
      "17.58299994468689\n",
      "6.664999961853027\n",
      "8.20799994468689\n",
      "29.320000171661377\n",
      "2.0880000591278076\n",
      "6.636999845504761\n",
      "8.414000034332275\n",
      "2.111999988555908\n",
      "6.5899999141693115\n",
      "2.1069998741149902\n",
      "10.86300015449524\n",
      "4.322000026702881\n",
      "6.269999980926514\n",
      "14.764000177383423\n",
      "15.077000141143799\n",
      "4.230999946594238\n",
      "2.5320000648498535\n",
      "10.366000175476074\n",
      "6.346999883651733\n",
      "6.299999952316284\n",
      "2.1529998779296875\n",
      "4.442000150680542\n",
      "2.1059999465942383\n",
      "4.2230000495910645\n",
      "2.2619998455047607\n",
      "8.772000074386597\n",
      "15.025000095367432\n",
      "8.59500002861023\n",
      "26.52900004386902\n",
      "14.740000009536743\n",
      "6.3379998207092285\n",
      "12.655999898910522\n",
      "2.133000135421753\n",
      "18.092000007629395\n",
      "3.4110000133514404\n",
      "6.940999984741211\n",
      "2.25600004196167\n",
      "2.246000051498413\n",
      "3.0959999561309814\n",
      "13.75\n",
      "8.282999992370605\n",
      "4.199000120162964\n",
      "12.565999984741211\n",
      "15.505000114440918\n",
      "4.302000045776367\n",
      "6.4049999713897705\n",
      "10.543999910354614\n",
      "12.296000003814697\n",
      "8.506999969482422\n",
      "4.105000019073486\n",
      "20.644999980926514\n",
      "10.513000011444092\n",
      "14.64300012588501\n",
      "2.3289999961853027\n",
      "8.386000156402588\n",
      "3.8499999046325684\n",
      "4.139999866485596\n",
      "8.491999864578247\n",
      "4.064000129699707\n",
      "4.500999927520752\n",
      "20.0939998626709\n",
      "4.64900016784668\n",
      "1.8849999904632568\n",
      "16.217000007629395\n",
      "23.26699995994568\n",
      "25.097000122070312\n",
      "14.377000093460083\n",
      "8.138000011444092\n",
      "8.4760000705719\n",
      "33.276000022888184\n",
      "6.441999912261963\n",
      "4.23799991607666\n",
      "6.591000080108643\n",
      "12.55400013923645\n",
      "10.19700002670288\n",
      "8.115000009536743\n",
      "8.223999977111816\n",
      "13.91599988937378\n",
      "20.377000093460083\n",
      "2.1040000915527344\n",
      "27.044000148773193\n",
      "4.290999889373779\n",
      "9.076000213623047\n",
      "6.836999893188477\n",
      "2.183000087738037\n",
      "28.19599986076355\n",
      "12.624000072479248\n",
      "9.055000066757202\n",
      "2.1710000038146973\n",
      "6.437000036239624\n",
      "4.146999835968018\n",
      "6.251000165939331\n",
      "2.1559998989105225\n",
      "15.20300006866455\n"
     ]
    }
   ],
   "source": [
    "Array_Free_Flies = multiple_Collisions(Number_Segments, Number_Free_Flies, Average_Distance_Stripes, Star_Vectors, Alphas_Array, Patch_Information, Reduction_Factor, Long_Fly_Time, Initial_Position_Obstacle, Initial_Velocity_Obstacle);"
   ]
  },
  {
   "cell_type": "code",
   "execution_count": null,
   "metadata": {},
   "outputs": [],
   "source": []
  }
 ],
 "metadata": {
  "kernelspec": {
   "display_name": "Julia 1.3.0",
   "language": "julia",
   "name": "julia-1.3"
  },
  "language_info": {
   "file_extension": ".jl",
   "mimetype": "application/julia",
   "name": "julia",
   "version": "1.3.0"
  }
 },
 "nbformat": 4,
 "nbformat_minor": 2
}
