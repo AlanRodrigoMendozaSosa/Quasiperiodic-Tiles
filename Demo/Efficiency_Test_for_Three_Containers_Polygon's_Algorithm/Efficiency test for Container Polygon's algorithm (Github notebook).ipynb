{
 "cells": [
  {
   "cell_type": "markdown",
   "metadata": {},
   "source": [
    "# Efficiency test for Container Polygon's algorithm"
   ]
  },
  {
   "cell_type": "markdown",
   "metadata": {},
   "source": [
    "In this notebook we will use the three differents algorithms developed to find the container polygon of an arbitrary point in space.\n",
    "\n",
    "We will show the time elapsed in each of them."
   ]
  },
  {
   "cell_type": "markdown",
   "metadata": {},
   "source": [
    "Let's load the files that will be used in this notebook."
   ]
  },
  {
   "cell_type": "code",
   "execution_count": 1,
   "metadata": {},
   "outputs": [
    {
     "data": {
      "text/plain": [
       "getVoronoiDiagram (generic function with 1 method)"
      ]
     },
     "execution_count": 1,
     "metadata": {},
     "output_type": "execute_result"
    }
   ],
   "source": [
    "include(\"Operaciones_Basicas.jl\")\n",
    "include(\"Red_Dual.jl\")\n",
    "include(\"Separacion_Arreglos_X_Y.jl\")\n",
    "include(\"Generador_Vecindades_Pto_Arbitrario.jl\")\n",
    "include(\"Dentro_Fuera_Poligono.jl\")\n",
    "include(\"Algoritmo_Radio.jl\")\n",
    "include(\"Algoritmo_Voronoi.jl\")\n",
    "include(\"Algoritmo_Sin_Acotar.jl\")\n",
    "include(\"voronoi.jl\")"
   ]
  },
  {
   "cell_type": "markdown",
   "metadata": {},
   "source": [
    "We will use the package \"Plots\" to visualize the polygons of the Neighborhood and the Voronoi's polygons. So, let's load it."
   ]
  },
  {
   "cell_type": "code",
   "execution_count": 2,
   "metadata": {},
   "outputs": [],
   "source": [
    "using Plots"
   ]
  },
  {
   "cell_type": "markdown",
   "metadata": {},
   "source": [
    "### Information about the Quasiperiodic Lattice"
   ]
  },
  {
   "cell_type": "markdown",
   "metadata": {},
   "source": [
    "Create the information of the star vectors required by the GDM algorithm, which determine the symmetry of the quasiperiodic lattice. Also, generate the array that contains the alpha constants and the array with the average distance between stripes."
   ]
  },
  {
   "cell_type": "code",
   "execution_count": 3,
   "metadata": {},
   "outputs": [],
   "source": [
    "NSides = 121; #Symmetry of the quasiperiodic lattice\n",
    "Star_Vectors = [[BigFloat(1),0]]; #Array wich will contain the Star Vectors\n",
    "for i in 1:(NSides-1)\n",
    "    push!(Star_Vectors, [cos((2*i)*pi/NSides), sin((2*i)*pi/NSides)]); #Complete the Star_Vector Array\n",
    "end\n",
    "Alphas_Array = fill(0.2, NSides); #Array of the alphas constant\n",
    "Average_Distance_Stripes = fill(NSides/2, NSides); #Array with the average distance between stripes"
   ]
  },
  {
   "cell_type": "markdown",
   "metadata": {},
   "source": [
    "### Three metods to get container polygon"
   ]
  },
  {
   "cell_type": "markdown",
   "metadata": {},
   "source": [
    "First, let's generate the neighborhood of the quasiperiodic lattice around an arbitrary point.\n",
    "\n",
    "The three metods will work with the same point."
   ]
  },
  {
   "cell_type": "code",
   "execution_count": 4,
   "metadata": {},
   "outputs": [
    {
     "data": {
      "text/plain": [
       "2-element Array{Float64,1}:\n",
       " -3.8826711135239587e9\n",
       "  2.682006397170946e9 "
      ]
     },
     "execution_count": 4,
     "metadata": {},
     "output_type": "execute_result"
    }
   ],
   "source": [
    "N = 0; #The margin of error to consider\n",
    "\n",
    "SL = 1e10; #Size of a half side of the square in which the algorithm generate a random point inside it\n",
    "\n",
    "#Let's generate the arbitrary point around which we will generate the neighborhood\n",
    "APoint = Float64[]; #An Float64 array that will held the coordinates of the arbitrary point\n",
    "\n",
    "#Generate two random numbers that will determine in which cuadrant will be the arbitrary point\n",
    "x = rand();\n",
    "y = rand();\n",
    "\n",
    "if (x > 0.5) && (y > 0.5)\n",
    "    APoint = [rand()*SL, rand()*SL];\n",
    "elseif (x > 0.5) && (y < 0.5)\n",
    "    APoint = [rand()*SL, -rand()*SL];\n",
    "elseif (x < 0.5) && (y > 0.5)\n",
    "    APoint = [-rand()*SL, rand()*SL];\n",
    "elseif (x < 0.5) && (y < 0.5)\n",
    "    APoint = [-rand()*SL, -rand()*SL];\n",
    "end"
   ]
  },
  {
   "cell_type": "code",
   "execution_count": 8,
   "metadata": {},
   "outputs": [
    {
     "name": "stdout",
     "output_type": "stream",
     "text": [
      "  1.793397 seconds (31.60 M allocations: 1.714 GiB, 27.11% gc time)\n"
     ]
    }
   ],
   "source": [
    "#Let's get the Neighborhood around an arbitrary point without any special algorithm\n",
    "@time Dual_Points = region_Local(N, Average_Distance_Stripes, Star_Vectors, Alphas_Array, APoint);"
   ]
  },
  {
   "cell_type": "code",
   "execution_count": 9,
   "metadata": {},
   "outputs": [
    {
     "name": "stdout",
     "output_type": "stream",
     "text": [
      "  1.777928 seconds (31.94 M allocations: 1.730 GiB, 23.51% gc time)\n"
     ]
    }
   ],
   "source": [
    "Radius = 2; #Size of the radius to use at the circle centered in the point of interest\n",
    "\n",
    "#Let's get the Neighborhood around an arbitrary point with Radius algorithm\n",
    "@time Dual_Points_R = region_Local_Radio(N, Radius, Average_Distance_Stripes, Star_Vectors, Alphas_Array, APoint);"
   ]
  },
  {
   "cell_type": "code",
   "execution_count": 10,
   "metadata": {},
   "outputs": [
    {
     "name": "stdout",
     "output_type": "stream",
     "text": [
      "  1.842946 seconds (31.60 M allocations: 1.714 GiB, 26.14% gc time)\n"
     ]
    }
   ],
   "source": [
    "#Let's get the Neighborhood around an arbitrary point with Voronoi algorithm\n",
    "@time Dual_Points_V = region_Local_Voronoi(N, Average_Distance_Stripes, Star_Vectors, Alphas_Array, APoint); #Algoritmo Voronoi"
   ]
  },
  {
   "cell_type": "markdown",
   "metadata": {},
   "source": [
    "Now, let's find the container polygon and visualize it."
   ]
  },
  {
   "cell_type": "code",
   "execution_count": 14,
   "metadata": {},
   "outputs": [
    {
     "name": "stdout",
     "output_type": "stream",
     "text": [
      "Without special algorithm\n",
      "  0.293184 seconds (2.08 M allocations: 97.169 MiB, 55.92% gc time)\n"
     ]
    },
    {
     "data": {
      "image/svg+xml": [
       "<?xml version=\"1.0\" encoding=\"utf-8\"?>\n",
       "<svg xmlns=\"http://www.w3.org/2000/svg\" xmlns:xlink=\"http://www.w3.org/1999/xlink\" width=\"600\" height=\"400\" viewBox=\"0 0 2400 1600\">\n",
       "<defs>\n",
       "  <clipPath id=\"clip720\">\n",
       "    <rect x=\"0\" y=\"0\" width=\"2400\" height=\"1600\"/>\n",
       "  </clipPath>\n",
       "</defs>\n",
       "<path clip-path=\"url(#clip720)\" d=\"\n",
       "M0 1600 L2400 1600 L2400 0 L0 0  Z\n",
       "  \" fill=\"#ffffff\" fill-rule=\"evenodd\" fill-opacity=\"1\"/>\n",
       "<defs>\n",
       "  <clipPath id=\"clip721\">\n",
       "    <rect x=\"480\" y=\"0\" width=\"1681\" height=\"1600\"/>\n",
       "  </clipPath>\n",
       "</defs>\n",
       "<path clip-path=\"url(#clip720)\" d=\"\n",
       "M354.616 1427.9 L2352.76 1427.9 L2352.76 106.815 L354.616 106.815  Z\n",
       "  \" fill=\"#ffffff\" fill-rule=\"evenodd\" fill-opacity=\"1\"/>\n",
       "<defs>\n",
       "  <clipPath id=\"clip722\">\n",
       "    <rect x=\"354\" y=\"106\" width=\"1999\" height=\"1322\"/>\n",
       "  </clipPath>\n",
       "</defs>\n",
       "<polyline clip-path=\"url(#clip720)\" style=\"stroke:#000000; stroke-width:3.2; stroke-opacity:1; fill:none\" points=\"\n",
       "  354.616,1427.9 2352.76,1427.9 \n",
       "  \"/>\n",
       "<polyline clip-path=\"url(#clip720)\" style=\"stroke:#000000; stroke-width:3.2; stroke-opacity:1; fill:none\" points=\"\n",
       "  354.616,1427.9 354.616,106.815 \n",
       "  \"/>\n",
       "<polyline clip-path=\"url(#clip720)\" style=\"stroke:#000000; stroke-width:3.2; stroke-opacity:1; fill:none\" points=\"\n",
       "  591.734,1427.9 591.734,1408.09 \n",
       "  \"/>\n",
       "<polyline clip-path=\"url(#clip720)\" style=\"stroke:#000000; stroke-width:3.2; stroke-opacity:1; fill:none\" points=\"\n",
       "  858.156,1427.9 858.156,1408.09 \n",
       "  \"/>\n",
       "<polyline clip-path=\"url(#clip720)\" style=\"stroke:#000000; stroke-width:3.2; stroke-opacity:1; fill:none\" points=\"\n",
       "  1124.58,1427.9 1124.58,1408.09 \n",
       "  \"/>\n",
       "<polyline clip-path=\"url(#clip720)\" style=\"stroke:#000000; stroke-width:3.2; stroke-opacity:1; fill:none\" points=\"\n",
       "  1391,1427.9 1391,1408.09 \n",
       "  \"/>\n",
       "<polyline clip-path=\"url(#clip720)\" style=\"stroke:#000000; stroke-width:3.2; stroke-opacity:1; fill:none\" points=\"\n",
       "  1657.42,1427.9 1657.42,1408.09 \n",
       "  \"/>\n",
       "<polyline clip-path=\"url(#clip720)\" style=\"stroke:#000000; stroke-width:3.2; stroke-opacity:1; fill:none\" points=\"\n",
       "  1923.84,1427.9 1923.84,1408.09 \n",
       "  \"/>\n",
       "<polyline clip-path=\"url(#clip720)\" style=\"stroke:#000000; stroke-width:3.2; stroke-opacity:1; fill:none\" points=\"\n",
       "  2190.26,1427.9 2190.26,1408.09 \n",
       "  \"/>\n",
       "<polyline clip-path=\"url(#clip720)\" style=\"stroke:#000000; stroke-width:3.2; stroke-opacity:1; fill:none\" points=\"\n",
       "  354.616,1238.54 384.588,1238.54 \n",
       "  \"/>\n",
       "<polyline clip-path=\"url(#clip720)\" style=\"stroke:#000000; stroke-width:3.2; stroke-opacity:1; fill:none\" points=\"\n",
       "  354.616,972.117 384.588,972.117 \n",
       "  \"/>\n",
       "<polyline clip-path=\"url(#clip720)\" style=\"stroke:#000000; stroke-width:3.2; stroke-opacity:1; fill:none\" points=\"\n",
       "  354.616,705.695 384.588,705.695 \n",
       "  \"/>\n",
       "<polyline clip-path=\"url(#clip720)\" style=\"stroke:#000000; stroke-width:3.2; stroke-opacity:1; fill:none\" points=\"\n",
       "  354.616,439.274 384.588,439.274 \n",
       "  \"/>\n",
       "<polyline clip-path=\"url(#clip720)\" style=\"stroke:#000000; stroke-width:3.2; stroke-opacity:1; fill:none\" points=\"\n",
       "  354.616,172.852 384.588,172.852 \n",
       "  \"/>\n",
       "<g clip-path=\"url(#clip720)\">\n",
       "<text style=\"fill:#000000; fill-opacity:1; font-family:Arial,Helvetica Neue,Helvetica,sans-serif; font-size:48px; text-anchor:middle;\" transform=\"rotate(0, 591.734, 1481.9)\" x=\"591.734\" y=\"1481.9\">-3882671115</text>\n",
       "</g>\n",
       "<g clip-path=\"url(#clip720)\">\n",
       "<text style=\"fill:#000000; fill-opacity:1; font-family:Arial,Helvetica Neue,Helvetica,sans-serif; font-size:48px; text-anchor:middle;\" transform=\"rotate(0, 858.156, 1481.9)\" x=\"858.156\" y=\"1481.9\">-3882671114</text>\n",
       "</g>\n",
       "<g clip-path=\"url(#clip720)\">\n",
       "<text style=\"fill:#000000; fill-opacity:1; font-family:Arial,Helvetica Neue,Helvetica,sans-serif; font-size:48px; text-anchor:middle;\" transform=\"rotate(0, 1124.58, 1481.9)\" x=\"1124.58\" y=\"1481.9\">-3882671114</text>\n",
       "</g>\n",
       "<g clip-path=\"url(#clip720)\">\n",
       "<text style=\"fill:#000000; fill-opacity:1; font-family:Arial,Helvetica Neue,Helvetica,sans-serif; font-size:48px; text-anchor:middle;\" transform=\"rotate(0, 1391, 1481.9)\" x=\"1391\" y=\"1481.9\">-3882671114</text>\n",
       "</g>\n",
       "<g clip-path=\"url(#clip720)\">\n",
       "<text style=\"fill:#000000; fill-opacity:1; font-family:Arial,Helvetica Neue,Helvetica,sans-serif; font-size:48px; text-anchor:middle;\" transform=\"rotate(0, 1657.42, 1481.9)\" x=\"1657.42\" y=\"1481.9\">-3882671114</text>\n",
       "</g>\n",
       "<g clip-path=\"url(#clip720)\">\n",
       "<text style=\"fill:#000000; fill-opacity:1; font-family:Arial,Helvetica Neue,Helvetica,sans-serif; font-size:48px; text-anchor:middle;\" transform=\"rotate(0, 1923.84, 1481.9)\" x=\"1923.84\" y=\"1481.9\">-3882671114</text>\n",
       "</g>\n",
       "<g clip-path=\"url(#clip720)\">\n",
       "<text style=\"fill:#000000; fill-opacity:1; font-family:Arial,Helvetica Neue,Helvetica,sans-serif; font-size:48px; text-anchor:middle;\" transform=\"rotate(0, 2190.26, 1481.9)\" x=\"2190.26\" y=\"1481.9\">-3882671113</text>\n",
       "</g>\n",
       "<g clip-path=\"url(#clip720)\">\n",
       "<text style=\"fill:#000000; fill-opacity:1; font-family:Arial,Helvetica Neue,Helvetica,sans-serif; font-size:48px; text-anchor:end;\" transform=\"rotate(0, 330.616, 1256.04)\" x=\"330.616\" y=\"1256.04\">2682006396</text>\n",
       "</g>\n",
       "<g clip-path=\"url(#clip720)\">\n",
       "<text style=\"fill:#000000; fill-opacity:1; font-family:Arial,Helvetica Neue,Helvetica,sans-serif; font-size:48px; text-anchor:end;\" transform=\"rotate(0, 330.616, 989.617)\" x=\"330.616\" y=\"989.617\">2682006397</text>\n",
       "</g>\n",
       "<g clip-path=\"url(#clip720)\">\n",
       "<text style=\"fill:#000000; fill-opacity:1; font-family:Arial,Helvetica Neue,Helvetica,sans-serif; font-size:48px; text-anchor:end;\" transform=\"rotate(0, 330.616, 723.195)\" x=\"330.616\" y=\"723.195\">2682006397</text>\n",
       "</g>\n",
       "<g clip-path=\"url(#clip720)\">\n",
       "<text style=\"fill:#000000; fill-opacity:1; font-family:Arial,Helvetica Neue,Helvetica,sans-serif; font-size:48px; text-anchor:end;\" transform=\"rotate(0, 330.616, 456.774)\" x=\"330.616\" y=\"456.774\">2682006397</text>\n",
       "</g>\n",
       "<g clip-path=\"url(#clip720)\">\n",
       "<text style=\"fill:#000000; fill-opacity:1; font-family:Arial,Helvetica Neue,Helvetica,sans-serif; font-size:48px; text-anchor:end;\" transform=\"rotate(0, 330.616, 190.352)\" x=\"330.616\" y=\"190.352\">2682006397</text>\n",
       "</g>\n",
       "<polyline clip-path=\"url(#clip722)\" style=\"stroke:#000000; stroke-width:3.2; stroke-opacity:1; fill:none\" points=\"\n",
       "  964.546,144.205 411.167,1355.93 1742.83,1390.52 2296.21,178.786 964.546,144.205 \n",
       "  \"/>\n",
       "<circle clip-path=\"url(#clip722)\" cx=\"2025.14\" cy=\"211.555\" r=\"14\" fill=\"#ff0000\" fill-rule=\"evenodd\" fill-opacity=\"0.5\" stroke=\"#ffffff\" stroke-opacity=\"0.5\" stroke-width=\"3.2\"/>\n",
       "</svg>\n"
      ]
     },
     "execution_count": 14,
     "metadata": {},
     "output_type": "execute_result"
    }
   ],
   "source": [
    "println(\"Without special algorithm\")\n",
    "#Let's split the vertices coordinates in X coordinates and Y coordinates\n",
    "X, Y = separacion_Arreglo_de_Arreglos_2D(Dual_Points);\n",
    "\n",
    "#Let's obtain the vertices (P1,P2,P3,P4) of the container polygon\n",
    "@time Vertices_Container_Polygon = poligono_Contenedor(X, Y, APoint);\n",
    "\n",
    "#Let's visualize the container polygon\n",
    "plot()\n",
    "plot([Vertices_Container_Polygon[1][1], Vertices_Container_Polygon[2][1], Vertices_Container_Polygon[3][1], Vertices_Container_Polygon[4][1], Vertices_Container_Polygon[1][1]], [Vertices_Container_Polygon[1][2], Vertices_Container_Polygon[2][2], Vertices_Container_Polygon[3][2], Vertices_Container_Polygon[4][2], Vertices_Container_Polygon[1][2]], markersize = 0.2, key = false, aspect_ratio=:equal, grid = false, color =:black)\n",
    "scatter!([APoint[1]], [APoint[2]], markersize = 5, markeralpha = 0.5, markerstrokewidth = 0, markercolor = :red)"
   ]
  },
  {
   "cell_type": "code",
   "execution_count": 15,
   "metadata": {},
   "outputs": [
    {
     "name": "stdout",
     "output_type": "stream",
     "text": [
      "Radius Algorithm\n",
      "  0.000880 seconds (11.05 k allocations: 526.938 KiB)\n"
     ]
    },
    {
     "data": {
      "image/svg+xml": [
       "<?xml version=\"1.0\" encoding=\"utf-8\"?>\n",
       "<svg xmlns=\"http://www.w3.org/2000/svg\" xmlns:xlink=\"http://www.w3.org/1999/xlink\" width=\"600\" height=\"400\" viewBox=\"0 0 2400 1600\">\n",
       "<defs>\n",
       "  <clipPath id=\"clip760\">\n",
       "    <rect x=\"0\" y=\"0\" width=\"2400\" height=\"1600\"/>\n",
       "  </clipPath>\n",
       "</defs>\n",
       "<path clip-path=\"url(#clip760)\" d=\"\n",
       "M0 1600 L2400 1600 L2400 0 L0 0  Z\n",
       "  \" fill=\"#ffffff\" fill-rule=\"evenodd\" fill-opacity=\"1\"/>\n",
       "<defs>\n",
       "  <clipPath id=\"clip761\">\n",
       "    <rect x=\"480\" y=\"0\" width=\"1681\" height=\"1600\"/>\n",
       "  </clipPath>\n",
       "</defs>\n",
       "<path clip-path=\"url(#clip760)\" d=\"\n",
       "M354.616 1427.9 L2352.76 1427.9 L2352.76 106.815 L354.616 106.815  Z\n",
       "  \" fill=\"#ffffff\" fill-rule=\"evenodd\" fill-opacity=\"1\"/>\n",
       "<defs>\n",
       "  <clipPath id=\"clip762\">\n",
       "    <rect x=\"354\" y=\"106\" width=\"1999\" height=\"1322\"/>\n",
       "  </clipPath>\n",
       "</defs>\n",
       "<polyline clip-path=\"url(#clip760)\" style=\"stroke:#000000; stroke-width:3.2; stroke-opacity:1; fill:none\" points=\"\n",
       "  354.616,1427.9 2352.76,1427.9 \n",
       "  \"/>\n",
       "<polyline clip-path=\"url(#clip760)\" style=\"stroke:#000000; stroke-width:3.2; stroke-opacity:1; fill:none\" points=\"\n",
       "  354.616,1427.9 354.616,106.815 \n",
       "  \"/>\n",
       "<polyline clip-path=\"url(#clip760)\" style=\"stroke:#000000; stroke-width:3.2; stroke-opacity:1; fill:none\" points=\"\n",
       "  591.734,1427.9 591.734,1408.09 \n",
       "  \"/>\n",
       "<polyline clip-path=\"url(#clip760)\" style=\"stroke:#000000; stroke-width:3.2; stroke-opacity:1; fill:none\" points=\"\n",
       "  858.156,1427.9 858.156,1408.09 \n",
       "  \"/>\n",
       "<polyline clip-path=\"url(#clip760)\" style=\"stroke:#000000; stroke-width:3.2; stroke-opacity:1; fill:none\" points=\"\n",
       "  1124.58,1427.9 1124.58,1408.09 \n",
       "  \"/>\n",
       "<polyline clip-path=\"url(#clip760)\" style=\"stroke:#000000; stroke-width:3.2; stroke-opacity:1; fill:none\" points=\"\n",
       "  1391,1427.9 1391,1408.09 \n",
       "  \"/>\n",
       "<polyline clip-path=\"url(#clip760)\" style=\"stroke:#000000; stroke-width:3.2; stroke-opacity:1; fill:none\" points=\"\n",
       "  1657.42,1427.9 1657.42,1408.09 \n",
       "  \"/>\n",
       "<polyline clip-path=\"url(#clip760)\" style=\"stroke:#000000; stroke-width:3.2; stroke-opacity:1; fill:none\" points=\"\n",
       "  1923.84,1427.9 1923.84,1408.09 \n",
       "  \"/>\n",
       "<polyline clip-path=\"url(#clip760)\" style=\"stroke:#000000; stroke-width:3.2; stroke-opacity:1; fill:none\" points=\"\n",
       "  2190.26,1427.9 2190.26,1408.09 \n",
       "  \"/>\n",
       "<polyline clip-path=\"url(#clip760)\" style=\"stroke:#000000; stroke-width:3.2; stroke-opacity:1; fill:none\" points=\"\n",
       "  354.616,1238.54 384.588,1238.54 \n",
       "  \"/>\n",
       "<polyline clip-path=\"url(#clip760)\" style=\"stroke:#000000; stroke-width:3.2; stroke-opacity:1; fill:none\" points=\"\n",
       "  354.616,972.117 384.588,972.117 \n",
       "  \"/>\n",
       "<polyline clip-path=\"url(#clip760)\" style=\"stroke:#000000; stroke-width:3.2; stroke-opacity:1; fill:none\" points=\"\n",
       "  354.616,705.695 384.588,705.695 \n",
       "  \"/>\n",
       "<polyline clip-path=\"url(#clip760)\" style=\"stroke:#000000; stroke-width:3.2; stroke-opacity:1; fill:none\" points=\"\n",
       "  354.616,439.274 384.588,439.274 \n",
       "  \"/>\n",
       "<polyline clip-path=\"url(#clip760)\" style=\"stroke:#000000; stroke-width:3.2; stroke-opacity:1; fill:none\" points=\"\n",
       "  354.616,172.852 384.588,172.852 \n",
       "  \"/>\n",
       "<g clip-path=\"url(#clip760)\">\n",
       "<text style=\"fill:#000000; fill-opacity:1; font-family:Arial,Helvetica Neue,Helvetica,sans-serif; font-size:48px; text-anchor:middle;\" transform=\"rotate(0, 591.734, 1481.9)\" x=\"591.734\" y=\"1481.9\">-3882671115</text>\n",
       "</g>\n",
       "<g clip-path=\"url(#clip760)\">\n",
       "<text style=\"fill:#000000; fill-opacity:1; font-family:Arial,Helvetica Neue,Helvetica,sans-serif; font-size:48px; text-anchor:middle;\" transform=\"rotate(0, 858.156, 1481.9)\" x=\"858.156\" y=\"1481.9\">-3882671114</text>\n",
       "</g>\n",
       "<g clip-path=\"url(#clip760)\">\n",
       "<text style=\"fill:#000000; fill-opacity:1; font-family:Arial,Helvetica Neue,Helvetica,sans-serif; font-size:48px; text-anchor:middle;\" transform=\"rotate(0, 1124.58, 1481.9)\" x=\"1124.58\" y=\"1481.9\">-3882671114</text>\n",
       "</g>\n",
       "<g clip-path=\"url(#clip760)\">\n",
       "<text style=\"fill:#000000; fill-opacity:1; font-family:Arial,Helvetica Neue,Helvetica,sans-serif; font-size:48px; text-anchor:middle;\" transform=\"rotate(0, 1391, 1481.9)\" x=\"1391\" y=\"1481.9\">-3882671114</text>\n",
       "</g>\n",
       "<g clip-path=\"url(#clip760)\">\n",
       "<text style=\"fill:#000000; fill-opacity:1; font-family:Arial,Helvetica Neue,Helvetica,sans-serif; font-size:48px; text-anchor:middle;\" transform=\"rotate(0, 1657.42, 1481.9)\" x=\"1657.42\" y=\"1481.9\">-3882671114</text>\n",
       "</g>\n",
       "<g clip-path=\"url(#clip760)\">\n",
       "<text style=\"fill:#000000; fill-opacity:1; font-family:Arial,Helvetica Neue,Helvetica,sans-serif; font-size:48px; text-anchor:middle;\" transform=\"rotate(0, 1923.84, 1481.9)\" x=\"1923.84\" y=\"1481.9\">-3882671114</text>\n",
       "</g>\n",
       "<g clip-path=\"url(#clip760)\">\n",
       "<text style=\"fill:#000000; fill-opacity:1; font-family:Arial,Helvetica Neue,Helvetica,sans-serif; font-size:48px; text-anchor:middle;\" transform=\"rotate(0, 2190.26, 1481.9)\" x=\"2190.26\" y=\"1481.9\">-3882671113</text>\n",
       "</g>\n",
       "<g clip-path=\"url(#clip760)\">\n",
       "<text style=\"fill:#000000; fill-opacity:1; font-family:Arial,Helvetica Neue,Helvetica,sans-serif; font-size:48px; text-anchor:end;\" transform=\"rotate(0, 330.616, 1256.04)\" x=\"330.616\" y=\"1256.04\">2682006396</text>\n",
       "</g>\n",
       "<g clip-path=\"url(#clip760)\">\n",
       "<text style=\"fill:#000000; fill-opacity:1; font-family:Arial,Helvetica Neue,Helvetica,sans-serif; font-size:48px; text-anchor:end;\" transform=\"rotate(0, 330.616, 989.617)\" x=\"330.616\" y=\"989.617\">2682006397</text>\n",
       "</g>\n",
       "<g clip-path=\"url(#clip760)\">\n",
       "<text style=\"fill:#000000; fill-opacity:1; font-family:Arial,Helvetica Neue,Helvetica,sans-serif; font-size:48px; text-anchor:end;\" transform=\"rotate(0, 330.616, 723.195)\" x=\"330.616\" y=\"723.195\">2682006397</text>\n",
       "</g>\n",
       "<g clip-path=\"url(#clip760)\">\n",
       "<text style=\"fill:#000000; fill-opacity:1; font-family:Arial,Helvetica Neue,Helvetica,sans-serif; font-size:48px; text-anchor:end;\" transform=\"rotate(0, 330.616, 456.774)\" x=\"330.616\" y=\"456.774\">2682006397</text>\n",
       "</g>\n",
       "<g clip-path=\"url(#clip760)\">\n",
       "<text style=\"fill:#000000; fill-opacity:1; font-family:Arial,Helvetica Neue,Helvetica,sans-serif; font-size:48px; text-anchor:end;\" transform=\"rotate(0, 330.616, 190.352)\" x=\"330.616\" y=\"190.352\">2682006397</text>\n",
       "</g>\n",
       "<polyline clip-path=\"url(#clip762)\" style=\"stroke:#000000; stroke-width:3.2; stroke-opacity:1; fill:none\" points=\"\n",
       "  964.546,144.205 411.167,1355.93 1742.83,1390.52 2296.21,178.786 964.546,144.205 \n",
       "  \"/>\n",
       "<circle clip-path=\"url(#clip762)\" cx=\"2025.14\" cy=\"211.555\" r=\"14\" fill=\"#ff0000\" fill-rule=\"evenodd\" fill-opacity=\"0.5\" stroke=\"#ffffff\" stroke-opacity=\"0.5\" stroke-width=\"3.2\"/>\n",
       "</svg>\n"
      ]
     },
     "execution_count": 15,
     "metadata": {},
     "output_type": "execute_result"
    }
   ],
   "source": [
    "println(\"Radius Algorithm\")\n",
    "#Let's split the vertices coordinates in X coordinates and Y coordinates\n",
    "X_R, Y_R = separacion_Arreglo_de_Arreglos_2D(Dual_Points_R);\n",
    "\n",
    "#Let's obtain the vertices (P1,P2,P3,P4) of the container polygon\n",
    "@time Vertices_Container_Polygon_R = poligono_Contenedor_Radio(X_R, Y_R, APoint);\n",
    "\n",
    "#Let's visualize the container polygon\n",
    "plot()\n",
    "plot([Vertices_Container_Polygon_R[1][1], Vertices_Container_Polygon_R[2][1], Vertices_Container_Polygon_R[3][1], Vertices_Container_Polygon_R[4][1], Vertices_Container_Polygon_R[1][1]], [Vertices_Container_Polygon_R[1][2], Vertices_Container_Polygon_R[2][2], Vertices_Container_Polygon_R[3][2], Vertices_Container_Polygon_R[4][2], Vertices_Container_Polygon_R[1][2]], markersize = 0.2, key = false, aspect_ratio=:equal, grid = false, color =:black)\n",
    "scatter!([APoint[1]], [APoint[2]], markersize = 5, markeralpha = 0.5, markerstrokewidth = 0, markercolor = :red)"
   ]
  },
  {
   "cell_type": "code",
   "execution_count": 16,
   "metadata": {},
   "outputs": [
    {
     "name": "stdout",
     "output_type": "stream",
     "text": [
      "Voronoi's Algorithm\n",
      "  0.320412 seconds (1.17 M allocations: 34.343 MiB, 7.14% gc time)\n"
     ]
    },
    {
     "data": {
      "image/svg+xml": [
       "<?xml version=\"1.0\" encoding=\"utf-8\"?>\n",
       "<svg xmlns=\"http://www.w3.org/2000/svg\" xmlns:xlink=\"http://www.w3.org/1999/xlink\" width=\"600\" height=\"400\" viewBox=\"0 0 2400 1600\">\n",
       "<defs>\n",
       "  <clipPath id=\"clip800\">\n",
       "    <rect x=\"0\" y=\"0\" width=\"2400\" height=\"1600\"/>\n",
       "  </clipPath>\n",
       "</defs>\n",
       "<path clip-path=\"url(#clip800)\" d=\"\n",
       "M0 1600 L2400 1600 L2400 0 L0 0  Z\n",
       "  \" fill=\"#ffffff\" fill-rule=\"evenodd\" fill-opacity=\"1\"/>\n",
       "<defs>\n",
       "  <clipPath id=\"clip801\">\n",
       "    <rect x=\"480\" y=\"0\" width=\"1681\" height=\"1600\"/>\n",
       "  </clipPath>\n",
       "</defs>\n",
       "<path clip-path=\"url(#clip800)\" d=\"\n",
       "M354.616 1427.9 L2352.76 1427.9 L2352.76 106.815 L354.616 106.815  Z\n",
       "  \" fill=\"#ffffff\" fill-rule=\"evenodd\" fill-opacity=\"1\"/>\n",
       "<defs>\n",
       "  <clipPath id=\"clip802\">\n",
       "    <rect x=\"354\" y=\"106\" width=\"1999\" height=\"1322\"/>\n",
       "  </clipPath>\n",
       "</defs>\n",
       "<polyline clip-path=\"url(#clip800)\" style=\"stroke:#000000; stroke-width:3.2; stroke-opacity:1; fill:none\" points=\"\n",
       "  354.616,1427.9 2352.76,1427.9 \n",
       "  \"/>\n",
       "<polyline clip-path=\"url(#clip800)\" style=\"stroke:#000000; stroke-width:3.2; stroke-opacity:1; fill:none\" points=\"\n",
       "  354.616,1427.9 354.616,106.815 \n",
       "  \"/>\n",
       "<polyline clip-path=\"url(#clip800)\" style=\"stroke:#000000; stroke-width:3.2; stroke-opacity:1; fill:none\" points=\"\n",
       "  591.734,1427.9 591.734,1408.09 \n",
       "  \"/>\n",
       "<polyline clip-path=\"url(#clip800)\" style=\"stroke:#000000; stroke-width:3.2; stroke-opacity:1; fill:none\" points=\"\n",
       "  858.156,1427.9 858.156,1408.09 \n",
       "  \"/>\n",
       "<polyline clip-path=\"url(#clip800)\" style=\"stroke:#000000; stroke-width:3.2; stroke-opacity:1; fill:none\" points=\"\n",
       "  1124.58,1427.9 1124.58,1408.09 \n",
       "  \"/>\n",
       "<polyline clip-path=\"url(#clip800)\" style=\"stroke:#000000; stroke-width:3.2; stroke-opacity:1; fill:none\" points=\"\n",
       "  1391,1427.9 1391,1408.09 \n",
       "  \"/>\n",
       "<polyline clip-path=\"url(#clip800)\" style=\"stroke:#000000; stroke-width:3.2; stroke-opacity:1; fill:none\" points=\"\n",
       "  1657.42,1427.9 1657.42,1408.09 \n",
       "  \"/>\n",
       "<polyline clip-path=\"url(#clip800)\" style=\"stroke:#000000; stroke-width:3.2; stroke-opacity:1; fill:none\" points=\"\n",
       "  1923.84,1427.9 1923.84,1408.09 \n",
       "  \"/>\n",
       "<polyline clip-path=\"url(#clip800)\" style=\"stroke:#000000; stroke-width:3.2; stroke-opacity:1; fill:none\" points=\"\n",
       "  2190.26,1427.9 2190.26,1408.09 \n",
       "  \"/>\n",
       "<polyline clip-path=\"url(#clip800)\" style=\"stroke:#000000; stroke-width:3.2; stroke-opacity:1; fill:none\" points=\"\n",
       "  354.616,1238.54 384.588,1238.54 \n",
       "  \"/>\n",
       "<polyline clip-path=\"url(#clip800)\" style=\"stroke:#000000; stroke-width:3.2; stroke-opacity:1; fill:none\" points=\"\n",
       "  354.616,972.117 384.588,972.117 \n",
       "  \"/>\n",
       "<polyline clip-path=\"url(#clip800)\" style=\"stroke:#000000; stroke-width:3.2; stroke-opacity:1; fill:none\" points=\"\n",
       "  354.616,705.695 384.588,705.695 \n",
       "  \"/>\n",
       "<polyline clip-path=\"url(#clip800)\" style=\"stroke:#000000; stroke-width:3.2; stroke-opacity:1; fill:none\" points=\"\n",
       "  354.616,439.274 384.588,439.274 \n",
       "  \"/>\n",
       "<polyline clip-path=\"url(#clip800)\" style=\"stroke:#000000; stroke-width:3.2; stroke-opacity:1; fill:none\" points=\"\n",
       "  354.616,172.852 384.588,172.852 \n",
       "  \"/>\n",
       "<g clip-path=\"url(#clip800)\">\n",
       "<text style=\"fill:#000000; fill-opacity:1; font-family:Arial,Helvetica Neue,Helvetica,sans-serif; font-size:48px; text-anchor:middle;\" transform=\"rotate(0, 591.734, 1481.9)\" x=\"591.734\" y=\"1481.9\">-3882671115</text>\n",
       "</g>\n",
       "<g clip-path=\"url(#clip800)\">\n",
       "<text style=\"fill:#000000; fill-opacity:1; font-family:Arial,Helvetica Neue,Helvetica,sans-serif; font-size:48px; text-anchor:middle;\" transform=\"rotate(0, 858.156, 1481.9)\" x=\"858.156\" y=\"1481.9\">-3882671114</text>\n",
       "</g>\n",
       "<g clip-path=\"url(#clip800)\">\n",
       "<text style=\"fill:#000000; fill-opacity:1; font-family:Arial,Helvetica Neue,Helvetica,sans-serif; font-size:48px; text-anchor:middle;\" transform=\"rotate(0, 1124.58, 1481.9)\" x=\"1124.58\" y=\"1481.9\">-3882671114</text>\n",
       "</g>\n",
       "<g clip-path=\"url(#clip800)\">\n",
       "<text style=\"fill:#000000; fill-opacity:1; font-family:Arial,Helvetica Neue,Helvetica,sans-serif; font-size:48px; text-anchor:middle;\" transform=\"rotate(0, 1391, 1481.9)\" x=\"1391\" y=\"1481.9\">-3882671114</text>\n",
       "</g>\n",
       "<g clip-path=\"url(#clip800)\">\n",
       "<text style=\"fill:#000000; fill-opacity:1; font-family:Arial,Helvetica Neue,Helvetica,sans-serif; font-size:48px; text-anchor:middle;\" transform=\"rotate(0, 1657.42, 1481.9)\" x=\"1657.42\" y=\"1481.9\">-3882671114</text>\n",
       "</g>\n",
       "<g clip-path=\"url(#clip800)\">\n",
       "<text style=\"fill:#000000; fill-opacity:1; font-family:Arial,Helvetica Neue,Helvetica,sans-serif; font-size:48px; text-anchor:middle;\" transform=\"rotate(0, 1923.84, 1481.9)\" x=\"1923.84\" y=\"1481.9\">-3882671114</text>\n",
       "</g>\n",
       "<g clip-path=\"url(#clip800)\">\n",
       "<text style=\"fill:#000000; fill-opacity:1; font-family:Arial,Helvetica Neue,Helvetica,sans-serif; font-size:48px; text-anchor:middle;\" transform=\"rotate(0, 2190.26, 1481.9)\" x=\"2190.26\" y=\"1481.9\">-3882671113</text>\n",
       "</g>\n",
       "<g clip-path=\"url(#clip800)\">\n",
       "<text style=\"fill:#000000; fill-opacity:1; font-family:Arial,Helvetica Neue,Helvetica,sans-serif; font-size:48px; text-anchor:end;\" transform=\"rotate(0, 330.616, 1256.04)\" x=\"330.616\" y=\"1256.04\">2682006396</text>\n",
       "</g>\n",
       "<g clip-path=\"url(#clip800)\">\n",
       "<text style=\"fill:#000000; fill-opacity:1; font-family:Arial,Helvetica Neue,Helvetica,sans-serif; font-size:48px; text-anchor:end;\" transform=\"rotate(0, 330.616, 989.617)\" x=\"330.616\" y=\"989.617\">2682006397</text>\n",
       "</g>\n",
       "<g clip-path=\"url(#clip800)\">\n",
       "<text style=\"fill:#000000; fill-opacity:1; font-family:Arial,Helvetica Neue,Helvetica,sans-serif; font-size:48px; text-anchor:end;\" transform=\"rotate(0, 330.616, 723.195)\" x=\"330.616\" y=\"723.195\">2682006397</text>\n",
       "</g>\n",
       "<g clip-path=\"url(#clip800)\">\n",
       "<text style=\"fill:#000000; fill-opacity:1; font-family:Arial,Helvetica Neue,Helvetica,sans-serif; font-size:48px; text-anchor:end;\" transform=\"rotate(0, 330.616, 456.774)\" x=\"330.616\" y=\"456.774\">2682006397</text>\n",
       "</g>\n",
       "<g clip-path=\"url(#clip800)\">\n",
       "<text style=\"fill:#000000; fill-opacity:1; font-family:Arial,Helvetica Neue,Helvetica,sans-serif; font-size:48px; text-anchor:end;\" transform=\"rotate(0, 330.616, 190.352)\" x=\"330.616\" y=\"190.352\">2682006397</text>\n",
       "</g>\n",
       "<polyline clip-path=\"url(#clip802)\" style=\"stroke:#000000; stroke-width:3.2; stroke-opacity:1; fill:none\" points=\"\n",
       "  964.546,144.205 411.167,1355.93 1742.83,1390.52 2296.21,178.786 964.546,144.205 \n",
       "  \"/>\n",
       "<circle clip-path=\"url(#clip802)\" cx=\"2025.14\" cy=\"211.555\" r=\"14\" fill=\"#ff0000\" fill-rule=\"evenodd\" fill-opacity=\"0.5\" stroke=\"#ffffff\" stroke-opacity=\"0.5\" stroke-width=\"3.2\"/>\n",
       "</svg>\n"
      ]
     },
     "execution_count": 16,
     "metadata": {},
     "output_type": "execute_result"
    }
   ],
   "source": [
    "println(\"Voronoi's Algorithm\")\n",
    "#Let's obtain the polygon structure of the container polygon (as a 4 segment/sides)\n",
    "@time Vertices_Container_Polygon_V = poligono_Contenedor_Voronoi(Dual_Points_V, APoint);\n",
    "\n",
    "#Let's visualize the container polygon\n",
    "plot()\n",
    "plot([Vertices_Container_Polygon_V[1].inicio[1], Vertices_Container_Polygon_V[2].inicio[1], Vertices_Container_Polygon_V[3].inicio[1], Vertices_Container_Polygon_V[4].inicio[1], Vertices_Container_Polygon_V[1].inicio[1]], [Vertices_Container_Polygon_V[1].inicio[2], Vertices_Container_Polygon_V[2].inicio[2], Vertices_Container_Polygon_V[3].inicio[2], Vertices_Container_Polygon_V[4].inicio[2], Vertices_Container_Polygon_V[1].inicio[2]], markersize = 0.2, key = false, aspect_ratio=:equal, grid = false, color =:black)\n",
    "scatter!([APoint[1]], [APoint[2]], markersize = 5, markeralpha = 0.5, markerstrokewidth = 0, markercolor = :red)"
   ]
  },
  {
   "cell_type": "code",
   "execution_count": null,
   "metadata": {},
   "outputs": [],
   "source": []
  }
 ],
 "metadata": {
  "kernelspec": {
   "display_name": "Julia 1.0.3",
   "language": "julia",
   "name": "julia-1.0"
  },
  "language_info": {
   "file_extension": ".jl",
   "mimetype": "application/julia",
   "name": "julia",
   "version": "1.0.3"
  }
 },
 "nbformat": 4,
 "nbformat_minor": 2
}
