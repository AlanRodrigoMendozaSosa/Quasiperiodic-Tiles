{
 "cells": [
  {
   "cell_type": "markdown",
   "metadata": {},
   "source": [
    "# Efficiency test for Container Polygon's algorithm"
   ]
  },
  {
   "cell_type": "markdown",
   "metadata": {},
   "source": [
    "In this notebook we will use the three differents algorithms developed to find the container polygon of an arbitrary point in space.\n",
    "\n",
    "We will show the time elapsed in each of them."
   ]
  },
  {
   "cell_type": "markdown",
   "metadata": {},
   "source": [
    "Let's load the files that will be used in this notebook."
   ]
  },
  {
   "cell_type": "code",
   "execution_count": 1,
   "metadata": {},
   "outputs": [
    {
     "data": {
      "text/plain": [
       "getVoronoiDiagram (generic function with 1 method)"
      ]
     },
     "execution_count": 1,
     "metadata": {},
     "output_type": "execute_result"
    }
   ],
   "source": [
    "include(\"Operaciones_Basicas.jl\")\n",
    "include(\"Red_Dual.jl\")\n",
    "include(\"Separacion_Arreglos_X_Y.jl\")\n",
    "include(\"Generador_Vecindades_Pto_Arbitrario.jl\")\n",
    "include(\"Dentro_Fuera_Poligono.jl\")\n",
    "include(\"Algoritmo_Radio.jl\")\n",
    "include(\"Algoritmo_Voronoi.jl\")\n",
    "include(\"Algoritmo_Sin_Acotar.jl\")\n",
    "include(\"voronoi.jl\")"
   ]
  },
  {
   "cell_type": "markdown",
   "metadata": {},
   "source": [
    "We will use the package \"Plots\" to visualize the polygons of the Neighborhood and the Voronoi's polygons. So, let's load it."
   ]
  },
  {
   "cell_type": "code",
   "execution_count": 2,
   "metadata": {},
   "outputs": [],
   "source": [
    "using Plots"
   ]
  },
  {
   "cell_type": "markdown",
   "metadata": {},
   "source": [
    "### Information about the Quasiperiodic Lattice"
   ]
  },
  {
   "cell_type": "markdown",
   "metadata": {},
   "source": [
    "Create the information of the star vectors required by the GDM algorithm, which determine the symmetry of the quasiperiodic lattice. Also, generate the array that contains the alpha constants and the array with the average distance between stripes."
   ]
  },
  {
   "cell_type": "code",
   "execution_count": 3,
   "metadata": {},
   "outputs": [],
   "source": [
    "NSides = 121; #Symmetry of the quasiperiodic lattice\n",
    "\n",
    "Star_Vectors = [[BigFloat(1),0]]; #Array wich will contain the Star Vectors\n",
    "\n",
    "for i in 1:(NSides-1)\n",
    "    push!(Star_Vectors, [cos((2*i)*pi/NSides), sin((2*i)*pi/NSides)]); #Complete the Star_Vector Array\n",
    "end\n",
    "\n",
    "Alphas_Array = fill(0.2, NSides); #Array of the alphas constant\n",
    "\n",
    "Average_Distance_Stripes = fill(NSides/2, NSides); #Array with the average distance between stripes"
   ]
  },
  {
   "cell_type": "markdown",
   "metadata": {},
   "source": [
    "### Three metods to get container polygon"
   ]
  },
  {
   "cell_type": "markdown",
   "metadata": {},
   "source": [
    "First, let's generate the neighborhood of the quasiperiodic lattice around an arbitrary point.\n",
    "\n",
    "The three metods will work with the same point."
   ]
  },
  {
   "cell_type": "code",
   "execution_count": 4,
   "metadata": {},
   "outputs": [
    {
     "data": {
      "text/plain": [
       "2-element Array{Float64,1}:\n",
       "  3.980377437837037e9 \n",
       " -4.1903719799779606e9"
      ]
     },
     "execution_count": 4,
     "metadata": {},
     "output_type": "execute_result"
    }
   ],
   "source": [
    "N = 0; #The margin of error to consider\n",
    "\n",
    "SL = 1e10; #Size of a half side of the square in which the algorithm generate a random point inside it\n",
    "\n",
    "#Let's generate the arbitrary point around which we will generate the neighborhood\n",
    "APoint = Float64[]; #An Float64 array that will held the coordinates of the arbitrary point\n",
    "\n",
    "#Generate two random numbers that will determine in which cuadrant will be the arbitrary point\n",
    "x = rand();\n",
    "y = rand();\n",
    "\n",
    "if (x > 0.5) && (y > 0.5)\n",
    "    APoint = [rand()*SL, rand()*SL];\n",
    "elseif (x > 0.5) && (y < 0.5)\n",
    "    APoint = [rand()*SL, -rand()*SL];\n",
    "elseif (x < 0.5) && (y > 0.5)\n",
    "    APoint = [-rand()*SL, rand()*SL];\n",
    "elseif (x < 0.5) && (y < 0.5)\n",
    "    APoint = [-rand()*SL, -rand()*SL];\n",
    "end"
   ]
  },
  {
   "cell_type": "code",
   "execution_count": 11,
   "metadata": {},
   "outputs": [
    {
     "name": "stdout",
     "output_type": "stream",
     "text": [
      "  1.652266 seconds (31.60 M allocations: 1.714 GiB, 24.38% gc time)\n"
     ]
    }
   ],
   "source": [
    "#Let's get the Neighborhood around an arbitrary point without any special algorithm\n",
    "@time Dual_Points = region_Local(N, Average_Distance_Stripes, Star_Vectors, Alphas_Array, APoint);"
   ]
  },
  {
   "cell_type": "code",
   "execution_count": 12,
   "metadata": {},
   "outputs": [
    {
     "name": "stdout",
     "output_type": "stream",
     "text": [
      "  1.881911 seconds (31.94 M allocations: 1.730 GiB, 23.69% gc time)\n"
     ]
    }
   ],
   "source": [
    "Radius = 2; #Size of the radius to use at the circle centered in the point of interest\n",
    "\n",
    "#Let's get the Neighborhood around an arbitrary point with Radius algorithm\n",
    "@time Dual_Points_R = region_Local_Radio(N, Radius, Average_Distance_Stripes, Star_Vectors, Alphas_Array, APoint);"
   ]
  },
  {
   "cell_type": "code",
   "execution_count": 13,
   "metadata": {},
   "outputs": [
    {
     "name": "stdout",
     "output_type": "stream",
     "text": [
      "  1.933458 seconds (31.60 M allocations: 1.714 GiB, 30.12% gc time)\n"
     ]
    }
   ],
   "source": [
    "#Let's get the Neighborhood around an arbitrary point with Voronoi algorithm\n",
    "@time Dual_Points_V = region_Local_Voronoi(N, Average_Distance_Stripes, Star_Vectors, Alphas_Array, APoint); #Algoritmo Voronoi"
   ]
  },
  {
   "cell_type": "markdown",
   "metadata": {},
   "source": [
    "Now, let's find the container polygon and visualize it."
   ]
  },
  {
   "cell_type": "code",
   "execution_count": 14,
   "metadata": {},
   "outputs": [
    {
     "name": "stdout",
     "output_type": "stream",
     "text": [
      "Without special algorithm\n",
      "  0.210399 seconds (2.81 M allocations: 130.201 MiB, 25.40% gc time)\n"
     ]
    },
    {
     "data": {
      "image/svg+xml": [
       "<?xml version=\"1.0\" encoding=\"utf-8\"?>\n",
       "<svg xmlns=\"http://www.w3.org/2000/svg\" xmlns:xlink=\"http://www.w3.org/1999/xlink\" width=\"600\" height=\"400\" viewBox=\"0 0 2400 1600\">\n",
       "<defs>\n",
       "  <clipPath id=\"clip8300\">\n",
       "    <rect x=\"0\" y=\"0\" width=\"2400\" height=\"1600\"/>\n",
       "  </clipPath>\n",
       "</defs>\n",
       "<path clip-path=\"url(#clip8300)\" d=\"\n",
       "M0 1600 L2400 1600 L2400 0 L0 0  Z\n",
       "  \" fill=\"#ffffff\" fill-rule=\"evenodd\" fill-opacity=\"1\"/>\n",
       "<defs>\n",
       "  <clipPath id=\"clip8301\">\n",
       "    <rect x=\"480\" y=\"0\" width=\"1681\" height=\"1600\"/>\n",
       "  </clipPath>\n",
       "</defs>\n",
       "<path clip-path=\"url(#clip8300)\" d=\"\n",
       "M759.943 1487.47 L1975.54 1487.47 L1975.54 47.2441 L759.943 47.2441  Z\n",
       "  \" fill=\"#ffffff\" fill-rule=\"evenodd\" fill-opacity=\"1\"/>\n",
       "<defs>\n",
       "  <clipPath id=\"clip8302\">\n",
       "    <rect x=\"759\" y=\"47\" width=\"1217\" height=\"1441\"/>\n",
       "  </clipPath>\n",
       "</defs>\n",
       "<polyline clip-path=\"url(#clip8300)\" style=\"stroke:#000000; stroke-width:3.2; stroke-opacity:1; fill:none\" points=\"\n",
       "  759.943,1487.47 1975.54,1487.47 \n",
       "  \"/>\n",
       "<polyline clip-path=\"url(#clip8300)\" style=\"stroke:#000000; stroke-width:3.2; stroke-opacity:1; fill:none\" points=\"\n",
       "  759.943,1487.47 759.943,47.2445 \n",
       "  \"/>\n",
       "<polyline clip-path=\"url(#clip8300)\" style=\"stroke:#000000; stroke-width:3.2; stroke-opacity:1; fill:none\" points=\"\n",
       "  968.515,1487.47 968.515,1465.87 \n",
       "  \"/>\n",
       "<polyline clip-path=\"url(#clip8300)\" style=\"stroke:#000000; stroke-width:3.2; stroke-opacity:1; fill:none\" points=\"\n",
       "  1193.94,1487.47 1193.94,1465.87 \n",
       "  \"/>\n",
       "<polyline clip-path=\"url(#clip8300)\" style=\"stroke:#000000; stroke-width:3.2; stroke-opacity:1; fill:none\" points=\"\n",
       "  1419.37,1487.47 1419.37,1465.87 \n",
       "  \"/>\n",
       "<polyline clip-path=\"url(#clip8300)\" style=\"stroke:#000000; stroke-width:3.2; stroke-opacity:1; fill:none\" points=\"\n",
       "  1644.79,1487.47 1644.79,1465.87 \n",
       "  \"/>\n",
       "<polyline clip-path=\"url(#clip8300)\" style=\"stroke:#000000; stroke-width:3.2; stroke-opacity:1; fill:none\" points=\"\n",
       "  1870.22,1487.47 1870.22,1465.87 \n",
       "  \"/>\n",
       "<polyline clip-path=\"url(#clip8300)\" style=\"stroke:#000000; stroke-width:3.2; stroke-opacity:1; fill:none\" points=\"\n",
       "  759.943,1252.29 778.177,1252.29 \n",
       "  \"/>\n",
       "<polyline clip-path=\"url(#clip8300)\" style=\"stroke:#000000; stroke-width:3.2; stroke-opacity:1; fill:none\" points=\"\n",
       "  759.943,970.503 778.177,970.503 \n",
       "  \"/>\n",
       "<polyline clip-path=\"url(#clip8300)\" style=\"stroke:#000000; stroke-width:3.2; stroke-opacity:1; fill:none\" points=\"\n",
       "  759.943,688.721 778.177,688.721 \n",
       "  \"/>\n",
       "<polyline clip-path=\"url(#clip8300)\" style=\"stroke:#000000; stroke-width:3.2; stroke-opacity:1; fill:none\" points=\"\n",
       "  759.943,406.939 778.177,406.939 \n",
       "  \"/>\n",
       "<polyline clip-path=\"url(#clip8300)\" style=\"stroke:#000000; stroke-width:3.2; stroke-opacity:1; fill:none\" points=\"\n",
       "  759.943,125.157 778.177,125.157 \n",
       "  \"/>\n",
       "<g clip-path=\"url(#clip8300)\">\n",
       "<text style=\"fill:#000000; fill-opacity:1; font-family:Arial,Helvetica Neue,Helvetica,sans-serif; font-size:48px; text-anchor:middle;\" transform=\"rotate(0, 968.515, 1541.47)\" x=\"968.515\" y=\"1541.47\">3980377438</text>\n",
       "</g>\n",
       "<g clip-path=\"url(#clip8300)\">\n",
       "<text style=\"fill:#000000; fill-opacity:1; font-family:Arial,Helvetica Neue,Helvetica,sans-serif; font-size:48px; text-anchor:middle;\" transform=\"rotate(0, 1193.94, 1541.47)\" x=\"1193.94\" y=\"1541.47\">3980377438</text>\n",
       "</g>\n",
       "<g clip-path=\"url(#clip8300)\">\n",
       "<text style=\"fill:#000000; fill-opacity:1; font-family:Arial,Helvetica Neue,Helvetica,sans-serif; font-size:48px; text-anchor:middle;\" transform=\"rotate(0, 1419.37, 1541.47)\" x=\"1419.37\" y=\"1541.47\">3980377438</text>\n",
       "</g>\n",
       "<g clip-path=\"url(#clip8300)\">\n",
       "<text style=\"fill:#000000; fill-opacity:1; font-family:Arial,Helvetica Neue,Helvetica,sans-serif; font-size:48px; text-anchor:middle;\" transform=\"rotate(0, 1644.79, 1541.47)\" x=\"1644.79\" y=\"1541.47\">3980377438</text>\n",
       "</g>\n",
       "<g clip-path=\"url(#clip8300)\">\n",
       "<text style=\"fill:#000000; fill-opacity:1; font-family:Arial,Helvetica Neue,Helvetica,sans-serif; font-size:48px; text-anchor:middle;\" transform=\"rotate(0, 1870.22, 1541.47)\" x=\"1870.22\" y=\"1541.47\">3980377438</text>\n",
       "</g>\n",
       "<g clip-path=\"url(#clip8300)\">\n",
       "<text style=\"fill:#000000; fill-opacity:1; font-family:Arial,Helvetica Neue,Helvetica,sans-serif; font-size:48px; text-anchor:end;\" transform=\"rotate(0, 735.943, 1269.79)\" x=\"735.943\" y=\"1269.79\">-4190371981</text>\n",
       "</g>\n",
       "<g clip-path=\"url(#clip8300)\">\n",
       "<text style=\"fill:#000000; fill-opacity:1; font-family:Arial,Helvetica Neue,Helvetica,sans-serif; font-size:48px; text-anchor:end;\" transform=\"rotate(0, 735.943, 988.003)\" x=\"735.943\" y=\"988.003\">-4190371981</text>\n",
       "</g>\n",
       "<g clip-path=\"url(#clip8300)\">\n",
       "<text style=\"fill:#000000; fill-opacity:1; font-family:Arial,Helvetica Neue,Helvetica,sans-serif; font-size:48px; text-anchor:end;\" transform=\"rotate(0, 735.943, 706.221)\" x=\"735.943\" y=\"706.221\">-4190371980</text>\n",
       "</g>\n",
       "<g clip-path=\"url(#clip8300)\">\n",
       "<text style=\"fill:#000000; fill-opacity:1; font-family:Arial,Helvetica Neue,Helvetica,sans-serif; font-size:48px; text-anchor:end;\" transform=\"rotate(0, 735.943, 424.439)\" x=\"735.943\" y=\"424.439\">-4190371980</text>\n",
       "</g>\n",
       "<g clip-path=\"url(#clip8300)\">\n",
       "<text style=\"fill:#000000; fill-opacity:1; font-family:Arial,Helvetica Neue,Helvetica,sans-serif; font-size:48px; text-anchor:end;\" transform=\"rotate(0, 735.943, 142.657)\" x=\"735.943\" y=\"142.657\">-4190371980</text>\n",
       "</g>\n",
       "<polyline clip-path=\"url(#clip8302)\" style=\"stroke:#000000; stroke-width:3.2; stroke-opacity:1; fill:none\" points=\"\n",
       "  1897.25,320.44 1941.13,1446.71 838.232,1214.28 794.347,88.0054 1897.25,320.44 \n",
       "  \"/>\n",
       "<circle clip-path=\"url(#clip8302)\" cx=\"1235.69\" cy=\"382.097\" r=\"14\" fill=\"#ff0000\" fill-rule=\"evenodd\" fill-opacity=\"0.5\" stroke=\"#ffffff\" stroke-opacity=\"0.5\" stroke-width=\"3.2\"/>\n",
       "</svg>\n"
      ]
     },
     "execution_count": 14,
     "metadata": {},
     "output_type": "execute_result"
    }
   ],
   "source": [
    "println(\"Without special algorithm\")\n",
    "#Let's split the vertices coordinates in X coordinates and Y coordinates\n",
    "X, Y = separacion_Arreglo_de_Arreglos_2D(Dual_Points);\n",
    "\n",
    "#Let's obtain the vertices (P1,P2,P3,P4) of the container polygon\n",
    "@time Vertices_Container_Polygon = poligono_Contenedor(X, Y, APoint);\n",
    "\n",
    "#Let's visualize the container polygon\n",
    "plot()\n",
    "plot([Vertices_Container_Polygon[1][1], Vertices_Container_Polygon[2][1], Vertices_Container_Polygon[3][1], Vertices_Container_Polygon[4][1], Vertices_Container_Polygon[1][1]], [Vertices_Container_Polygon[1][2], Vertices_Container_Polygon[2][2], Vertices_Container_Polygon[3][2], Vertices_Container_Polygon[4][2], Vertices_Container_Polygon[1][2]], markersize = 0.2, key = false, aspect_ratio=:equal, grid = false, color =:black)\n",
    "scatter!([APoint[1]], [APoint[2]], markersize = 5, markeralpha = 0.5, markerstrokewidth = 0, markercolor = :red)"
   ]
  },
  {
   "cell_type": "code",
   "execution_count": 15,
   "metadata": {},
   "outputs": [
    {
     "name": "stdout",
     "output_type": "stream",
     "text": [
      "Radius Algorithm\n",
      "  0.000900 seconds (10.21 k allocations: 486.516 KiB)\n"
     ]
    },
    {
     "data": {
      "image/svg+xml": [
       "<?xml version=\"1.0\" encoding=\"utf-8\"?>\n",
       "<svg xmlns=\"http://www.w3.org/2000/svg\" xmlns:xlink=\"http://www.w3.org/1999/xlink\" width=\"600\" height=\"400\" viewBox=\"0 0 2400 1600\">\n",
       "<defs>\n",
       "  <clipPath id=\"clip8700\">\n",
       "    <rect x=\"0\" y=\"0\" width=\"2400\" height=\"1600\"/>\n",
       "  </clipPath>\n",
       "</defs>\n",
       "<path clip-path=\"url(#clip8700)\" d=\"\n",
       "M0 1600 L2400 1600 L2400 0 L0 0  Z\n",
       "  \" fill=\"#ffffff\" fill-rule=\"evenodd\" fill-opacity=\"1\"/>\n",
       "<defs>\n",
       "  <clipPath id=\"clip8701\">\n",
       "    <rect x=\"480\" y=\"0\" width=\"1681\" height=\"1600\"/>\n",
       "  </clipPath>\n",
       "</defs>\n",
       "<path clip-path=\"url(#clip8700)\" d=\"\n",
       "M759.943 1487.47 L1975.54 1487.47 L1975.54 47.2441 L759.943 47.2441  Z\n",
       "  \" fill=\"#ffffff\" fill-rule=\"evenodd\" fill-opacity=\"1\"/>\n",
       "<defs>\n",
       "  <clipPath id=\"clip8702\">\n",
       "    <rect x=\"759\" y=\"47\" width=\"1217\" height=\"1441\"/>\n",
       "  </clipPath>\n",
       "</defs>\n",
       "<polyline clip-path=\"url(#clip8700)\" style=\"stroke:#000000; stroke-width:3.2; stroke-opacity:1; fill:none\" points=\"\n",
       "  759.943,1487.47 1975.54,1487.47 \n",
       "  \"/>\n",
       "<polyline clip-path=\"url(#clip8700)\" style=\"stroke:#000000; stroke-width:3.2; stroke-opacity:1; fill:none\" points=\"\n",
       "  759.943,1487.47 759.943,47.2445 \n",
       "  \"/>\n",
       "<polyline clip-path=\"url(#clip8700)\" style=\"stroke:#000000; stroke-width:3.2; stroke-opacity:1; fill:none\" points=\"\n",
       "  968.515,1487.47 968.515,1465.87 \n",
       "  \"/>\n",
       "<polyline clip-path=\"url(#clip8700)\" style=\"stroke:#000000; stroke-width:3.2; stroke-opacity:1; fill:none\" points=\"\n",
       "  1193.94,1487.47 1193.94,1465.87 \n",
       "  \"/>\n",
       "<polyline clip-path=\"url(#clip8700)\" style=\"stroke:#000000; stroke-width:3.2; stroke-opacity:1; fill:none\" points=\"\n",
       "  1419.37,1487.47 1419.37,1465.87 \n",
       "  \"/>\n",
       "<polyline clip-path=\"url(#clip8700)\" style=\"stroke:#000000; stroke-width:3.2; stroke-opacity:1; fill:none\" points=\"\n",
       "  1644.79,1487.47 1644.79,1465.87 \n",
       "  \"/>\n",
       "<polyline clip-path=\"url(#clip8700)\" style=\"stroke:#000000; stroke-width:3.2; stroke-opacity:1; fill:none\" points=\"\n",
       "  1870.22,1487.47 1870.22,1465.87 \n",
       "  \"/>\n",
       "<polyline clip-path=\"url(#clip8700)\" style=\"stroke:#000000; stroke-width:3.2; stroke-opacity:1; fill:none\" points=\"\n",
       "  759.943,1252.29 778.177,1252.29 \n",
       "  \"/>\n",
       "<polyline clip-path=\"url(#clip8700)\" style=\"stroke:#000000; stroke-width:3.2; stroke-opacity:1; fill:none\" points=\"\n",
       "  759.943,970.503 778.177,970.503 \n",
       "  \"/>\n",
       "<polyline clip-path=\"url(#clip8700)\" style=\"stroke:#000000; stroke-width:3.2; stroke-opacity:1; fill:none\" points=\"\n",
       "  759.943,688.721 778.177,688.721 \n",
       "  \"/>\n",
       "<polyline clip-path=\"url(#clip8700)\" style=\"stroke:#000000; stroke-width:3.2; stroke-opacity:1; fill:none\" points=\"\n",
       "  759.943,406.939 778.177,406.939 \n",
       "  \"/>\n",
       "<polyline clip-path=\"url(#clip8700)\" style=\"stroke:#000000; stroke-width:3.2; stroke-opacity:1; fill:none\" points=\"\n",
       "  759.943,125.157 778.177,125.157 \n",
       "  \"/>\n",
       "<g clip-path=\"url(#clip8700)\">\n",
       "<text style=\"fill:#000000; fill-opacity:1; font-family:Arial,Helvetica Neue,Helvetica,sans-serif; font-size:48px; text-anchor:middle;\" transform=\"rotate(0, 968.515, 1541.47)\" x=\"968.515\" y=\"1541.47\">3980377438</text>\n",
       "</g>\n",
       "<g clip-path=\"url(#clip8700)\">\n",
       "<text style=\"fill:#000000; fill-opacity:1; font-family:Arial,Helvetica Neue,Helvetica,sans-serif; font-size:48px; text-anchor:middle;\" transform=\"rotate(0, 1193.94, 1541.47)\" x=\"1193.94\" y=\"1541.47\">3980377438</text>\n",
       "</g>\n",
       "<g clip-path=\"url(#clip8700)\">\n",
       "<text style=\"fill:#000000; fill-opacity:1; font-family:Arial,Helvetica Neue,Helvetica,sans-serif; font-size:48px; text-anchor:middle;\" transform=\"rotate(0, 1419.37, 1541.47)\" x=\"1419.37\" y=\"1541.47\">3980377438</text>\n",
       "</g>\n",
       "<g clip-path=\"url(#clip8700)\">\n",
       "<text style=\"fill:#000000; fill-opacity:1; font-family:Arial,Helvetica Neue,Helvetica,sans-serif; font-size:48px; text-anchor:middle;\" transform=\"rotate(0, 1644.79, 1541.47)\" x=\"1644.79\" y=\"1541.47\">3980377438</text>\n",
       "</g>\n",
       "<g clip-path=\"url(#clip8700)\">\n",
       "<text style=\"fill:#000000; fill-opacity:1; font-family:Arial,Helvetica Neue,Helvetica,sans-serif; font-size:48px; text-anchor:middle;\" transform=\"rotate(0, 1870.22, 1541.47)\" x=\"1870.22\" y=\"1541.47\">3980377438</text>\n",
       "</g>\n",
       "<g clip-path=\"url(#clip8700)\">\n",
       "<text style=\"fill:#000000; fill-opacity:1; font-family:Arial,Helvetica Neue,Helvetica,sans-serif; font-size:48px; text-anchor:end;\" transform=\"rotate(0, 735.943, 1269.79)\" x=\"735.943\" y=\"1269.79\">-4190371981</text>\n",
       "</g>\n",
       "<g clip-path=\"url(#clip8700)\">\n",
       "<text style=\"fill:#000000; fill-opacity:1; font-family:Arial,Helvetica Neue,Helvetica,sans-serif; font-size:48px; text-anchor:end;\" transform=\"rotate(0, 735.943, 988.003)\" x=\"735.943\" y=\"988.003\">-4190371981</text>\n",
       "</g>\n",
       "<g clip-path=\"url(#clip8700)\">\n",
       "<text style=\"fill:#000000; fill-opacity:1; font-family:Arial,Helvetica Neue,Helvetica,sans-serif; font-size:48px; text-anchor:end;\" transform=\"rotate(0, 735.943, 706.221)\" x=\"735.943\" y=\"706.221\">-4190371980</text>\n",
       "</g>\n",
       "<g clip-path=\"url(#clip8700)\">\n",
       "<text style=\"fill:#000000; fill-opacity:1; font-family:Arial,Helvetica Neue,Helvetica,sans-serif; font-size:48px; text-anchor:end;\" transform=\"rotate(0, 735.943, 424.439)\" x=\"735.943\" y=\"424.439\">-4190371980</text>\n",
       "</g>\n",
       "<g clip-path=\"url(#clip8700)\">\n",
       "<text style=\"fill:#000000; fill-opacity:1; font-family:Arial,Helvetica Neue,Helvetica,sans-serif; font-size:48px; text-anchor:end;\" transform=\"rotate(0, 735.943, 142.657)\" x=\"735.943\" y=\"142.657\">-4190371980</text>\n",
       "</g>\n",
       "<polyline clip-path=\"url(#clip8702)\" style=\"stroke:#000000; stroke-width:3.2; stroke-opacity:1; fill:none\" points=\"\n",
       "  1897.25,320.44 1941.13,1446.71 838.232,1214.28 794.347,88.0054 1897.25,320.44 \n",
       "  \"/>\n",
       "<circle clip-path=\"url(#clip8702)\" cx=\"1235.69\" cy=\"382.097\" r=\"14\" fill=\"#ff0000\" fill-rule=\"evenodd\" fill-opacity=\"0.5\" stroke=\"#ffffff\" stroke-opacity=\"0.5\" stroke-width=\"3.2\"/>\n",
       "</svg>\n"
      ]
     },
     "execution_count": 15,
     "metadata": {},
     "output_type": "execute_result"
    }
   ],
   "source": [
    "println(\"Radius Algorithm\")\n",
    "#Let's split the vertices coordinates in X coordinates and Y coordinates\n",
    "X_R, Y_R = separacion_Arreglo_de_Arreglos_2D(Dual_Points_R);\n",
    "\n",
    "#Let's obtain the vertices (P1,P2,P3,P4) of the container polygon\n",
    "@time Vertices_Container_Polygon_R = poligono_Contenedor_Radio(X_R, Y_R, APoint);\n",
    "\n",
    "#Let's visualize the container polygon\n",
    "plot()\n",
    "plot([Vertices_Container_Polygon_R[1][1], Vertices_Container_Polygon_R[2][1], Vertices_Container_Polygon_R[3][1], Vertices_Container_Polygon_R[4][1], Vertices_Container_Polygon_R[1][1]], [Vertices_Container_Polygon_R[1][2], Vertices_Container_Polygon_R[2][2], Vertices_Container_Polygon_R[3][2], Vertices_Container_Polygon_R[4][2], Vertices_Container_Polygon_R[1][2]], markersize = 0.2, key = false, aspect_ratio=:equal, grid = false, color =:black)\n",
    "scatter!([APoint[1]], [APoint[2]], markersize = 5, markeralpha = 0.5, markerstrokewidth = 0, markercolor = :red)"
   ]
  },
  {
   "cell_type": "code",
   "execution_count": 16,
   "metadata": {},
   "outputs": [
    {
     "name": "stdout",
     "output_type": "stream",
     "text": [
      "Voronoi's Algorithm\n",
      "  0.295561 seconds (1.17 M allocations: 34.394 MiB, 2.83% gc time)\n"
     ]
    },
    {
     "data": {
      "image/svg+xml": [
       "<?xml version=\"1.0\" encoding=\"utf-8\"?>\n",
       "<svg xmlns=\"http://www.w3.org/2000/svg\" xmlns:xlink=\"http://www.w3.org/1999/xlink\" width=\"600\" height=\"400\" viewBox=\"0 0 2400 1600\">\n",
       "<defs>\n",
       "  <clipPath id=\"clip9100\">\n",
       "    <rect x=\"0\" y=\"0\" width=\"2400\" height=\"1600\"/>\n",
       "  </clipPath>\n",
       "</defs>\n",
       "<path clip-path=\"url(#clip9100)\" d=\"\n",
       "M0 1600 L2400 1600 L2400 0 L0 0  Z\n",
       "  \" fill=\"#ffffff\" fill-rule=\"evenodd\" fill-opacity=\"1\"/>\n",
       "<defs>\n",
       "  <clipPath id=\"clip9101\">\n",
       "    <rect x=\"480\" y=\"0\" width=\"1681\" height=\"1600\"/>\n",
       "  </clipPath>\n",
       "</defs>\n",
       "<path clip-path=\"url(#clip9100)\" d=\"\n",
       "M759.943 1487.47 L1975.54 1487.47 L1975.54 47.2441 L759.943 47.2441  Z\n",
       "  \" fill=\"#ffffff\" fill-rule=\"evenodd\" fill-opacity=\"1\"/>\n",
       "<defs>\n",
       "  <clipPath id=\"clip9102\">\n",
       "    <rect x=\"759\" y=\"47\" width=\"1217\" height=\"1441\"/>\n",
       "  </clipPath>\n",
       "</defs>\n",
       "<polyline clip-path=\"url(#clip9100)\" style=\"stroke:#000000; stroke-width:3.2; stroke-opacity:1; fill:none\" points=\"\n",
       "  759.943,1487.47 1975.54,1487.47 \n",
       "  \"/>\n",
       "<polyline clip-path=\"url(#clip9100)\" style=\"stroke:#000000; stroke-width:3.2; stroke-opacity:1; fill:none\" points=\"\n",
       "  759.943,1487.47 759.943,47.2445 \n",
       "  \"/>\n",
       "<polyline clip-path=\"url(#clip9100)\" style=\"stroke:#000000; stroke-width:3.2; stroke-opacity:1; fill:none\" points=\"\n",
       "  968.515,1487.47 968.515,1465.87 \n",
       "  \"/>\n",
       "<polyline clip-path=\"url(#clip9100)\" style=\"stroke:#000000; stroke-width:3.2; stroke-opacity:1; fill:none\" points=\"\n",
       "  1193.94,1487.47 1193.94,1465.87 \n",
       "  \"/>\n",
       "<polyline clip-path=\"url(#clip9100)\" style=\"stroke:#000000; stroke-width:3.2; stroke-opacity:1; fill:none\" points=\"\n",
       "  1419.37,1487.47 1419.37,1465.87 \n",
       "  \"/>\n",
       "<polyline clip-path=\"url(#clip9100)\" style=\"stroke:#000000; stroke-width:3.2; stroke-opacity:1; fill:none\" points=\"\n",
       "  1644.79,1487.47 1644.79,1465.87 \n",
       "  \"/>\n",
       "<polyline clip-path=\"url(#clip9100)\" style=\"stroke:#000000; stroke-width:3.2; stroke-opacity:1; fill:none\" points=\"\n",
       "  1870.22,1487.47 1870.22,1465.87 \n",
       "  \"/>\n",
       "<polyline clip-path=\"url(#clip9100)\" style=\"stroke:#000000; stroke-width:3.2; stroke-opacity:1; fill:none\" points=\"\n",
       "  759.943,1252.29 778.177,1252.29 \n",
       "  \"/>\n",
       "<polyline clip-path=\"url(#clip9100)\" style=\"stroke:#000000; stroke-width:3.2; stroke-opacity:1; fill:none\" points=\"\n",
       "  759.943,970.503 778.177,970.503 \n",
       "  \"/>\n",
       "<polyline clip-path=\"url(#clip9100)\" style=\"stroke:#000000; stroke-width:3.2; stroke-opacity:1; fill:none\" points=\"\n",
       "  759.943,688.721 778.177,688.721 \n",
       "  \"/>\n",
       "<polyline clip-path=\"url(#clip9100)\" style=\"stroke:#000000; stroke-width:3.2; stroke-opacity:1; fill:none\" points=\"\n",
       "  759.943,406.939 778.177,406.939 \n",
       "  \"/>\n",
       "<polyline clip-path=\"url(#clip9100)\" style=\"stroke:#000000; stroke-width:3.2; stroke-opacity:1; fill:none\" points=\"\n",
       "  759.943,125.157 778.177,125.157 \n",
       "  \"/>\n",
       "<g clip-path=\"url(#clip9100)\">\n",
       "<text style=\"fill:#000000; fill-opacity:1; font-family:Arial,Helvetica Neue,Helvetica,sans-serif; font-size:48px; text-anchor:middle;\" transform=\"rotate(0, 968.515, 1541.47)\" x=\"968.515\" y=\"1541.47\">3980377438</text>\n",
       "</g>\n",
       "<g clip-path=\"url(#clip9100)\">\n",
       "<text style=\"fill:#000000; fill-opacity:1; font-family:Arial,Helvetica Neue,Helvetica,sans-serif; font-size:48px; text-anchor:middle;\" transform=\"rotate(0, 1193.94, 1541.47)\" x=\"1193.94\" y=\"1541.47\">3980377438</text>\n",
       "</g>\n",
       "<g clip-path=\"url(#clip9100)\">\n",
       "<text style=\"fill:#000000; fill-opacity:1; font-family:Arial,Helvetica Neue,Helvetica,sans-serif; font-size:48px; text-anchor:middle;\" transform=\"rotate(0, 1419.37, 1541.47)\" x=\"1419.37\" y=\"1541.47\">3980377438</text>\n",
       "</g>\n",
       "<g clip-path=\"url(#clip9100)\">\n",
       "<text style=\"fill:#000000; fill-opacity:1; font-family:Arial,Helvetica Neue,Helvetica,sans-serif; font-size:48px; text-anchor:middle;\" transform=\"rotate(0, 1644.79, 1541.47)\" x=\"1644.79\" y=\"1541.47\">3980377438</text>\n",
       "</g>\n",
       "<g clip-path=\"url(#clip9100)\">\n",
       "<text style=\"fill:#000000; fill-opacity:1; font-family:Arial,Helvetica Neue,Helvetica,sans-serif; font-size:48px; text-anchor:middle;\" transform=\"rotate(0, 1870.22, 1541.47)\" x=\"1870.22\" y=\"1541.47\">3980377438</text>\n",
       "</g>\n",
       "<g clip-path=\"url(#clip9100)\">\n",
       "<text style=\"fill:#000000; fill-opacity:1; font-family:Arial,Helvetica Neue,Helvetica,sans-serif; font-size:48px; text-anchor:end;\" transform=\"rotate(0, 735.943, 1269.79)\" x=\"735.943\" y=\"1269.79\">-4190371981</text>\n",
       "</g>\n",
       "<g clip-path=\"url(#clip9100)\">\n",
       "<text style=\"fill:#000000; fill-opacity:1; font-family:Arial,Helvetica Neue,Helvetica,sans-serif; font-size:48px; text-anchor:end;\" transform=\"rotate(0, 735.943, 988.003)\" x=\"735.943\" y=\"988.003\">-4190371981</text>\n",
       "</g>\n",
       "<g clip-path=\"url(#clip9100)\">\n",
       "<text style=\"fill:#000000; fill-opacity:1; font-family:Arial,Helvetica Neue,Helvetica,sans-serif; font-size:48px; text-anchor:end;\" transform=\"rotate(0, 735.943, 706.221)\" x=\"735.943\" y=\"706.221\">-4190371980</text>\n",
       "</g>\n",
       "<g clip-path=\"url(#clip9100)\">\n",
       "<text style=\"fill:#000000; fill-opacity:1; font-family:Arial,Helvetica Neue,Helvetica,sans-serif; font-size:48px; text-anchor:end;\" transform=\"rotate(0, 735.943, 424.439)\" x=\"735.943\" y=\"424.439\">-4190371980</text>\n",
       "</g>\n",
       "<g clip-path=\"url(#clip9100)\">\n",
       "<text style=\"fill:#000000; fill-opacity:1; font-family:Arial,Helvetica Neue,Helvetica,sans-serif; font-size:48px; text-anchor:end;\" transform=\"rotate(0, 735.943, 142.657)\" x=\"735.943\" y=\"142.657\">-4190371980</text>\n",
       "</g>\n",
       "<polyline clip-path=\"url(#clip9102)\" style=\"stroke:#000000; stroke-width:3.2; stroke-opacity:1; fill:none\" points=\"\n",
       "  1897.25,320.44 1941.13,1446.71 838.232,1214.28 794.347,88.0054 1897.25,320.44 \n",
       "  \"/>\n",
       "<circle clip-path=\"url(#clip9102)\" cx=\"1235.69\" cy=\"382.097\" r=\"14\" fill=\"#ff0000\" fill-rule=\"evenodd\" fill-opacity=\"0.5\" stroke=\"#ffffff\" stroke-opacity=\"0.5\" stroke-width=\"3.2\"/>\n",
       "</svg>\n"
      ]
     },
     "execution_count": 16,
     "metadata": {},
     "output_type": "execute_result"
    }
   ],
   "source": [
    "println(\"Voronoi's Algorithm\")\n",
    "#Let's obtain the polygon structure of the container polygon (as a 4 segment/sides)\n",
    "@time Vertices_Container_Polygon_V = poligono_Contenedor_Voronoi(Dual_Points_V, APoint);\n",
    "\n",
    "#Let's visualize the container polygon\n",
    "plot()\n",
    "plot([Vertices_Container_Polygon_V[1].inicio[1], Vertices_Container_Polygon_V[2].inicio[1], Vertices_Container_Polygon_V[3].inicio[1], Vertices_Container_Polygon_V[4].inicio[1], Vertices_Container_Polygon_V[1].inicio[1]], [Vertices_Container_Polygon_V[1].inicio[2], Vertices_Container_Polygon_V[2].inicio[2], Vertices_Container_Polygon_V[3].inicio[2], Vertices_Container_Polygon_V[4].inicio[2], Vertices_Container_Polygon_V[1].inicio[2]], markersize = 0.2, key = false, aspect_ratio=:equal, grid = false, color =:black)\n",
    "scatter!([APoint[1]], [APoint[2]], markersize = 5, markeralpha = 0.5, markerstrokewidth = 0, markercolor = :red)"
   ]
  },
  {
   "cell_type": "code",
   "execution_count": null,
   "metadata": {},
   "outputs": [],
   "source": []
  }
 ],
 "metadata": {
  "kernelspec": {
   "display_name": "Julia 1.0.3",
   "language": "julia",
   "name": "julia-1.0"
  },
  "language_info": {
   "file_extension": ".jl",
   "mimetype": "application/julia",
   "name": "julia",
   "version": "1.0.3"
  }
 },
 "nbformat": 4,
 "nbformat_minor": 2
}
