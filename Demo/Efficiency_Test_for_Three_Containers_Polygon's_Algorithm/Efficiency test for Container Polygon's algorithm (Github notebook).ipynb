{
 "cells": [
  {
   "cell_type": "markdown",
   "metadata": {},
   "source": [
    "# Efficiency test for Container Polygon's algorithm"
   ]
  },
  {
   "cell_type": "markdown",
   "metadata": {},
   "source": [
    "In this notebook we will use the three differents algorithms developed to find the container polygon of an arbitrary point in space.\n",
    "\n",
    "We will show the time elapsed in each of them."
   ]
  },
  {
   "cell_type": "markdown",
   "metadata": {},
   "source": [
    "Let's load the files that will be used in this notebook."
   ]
  },
  {
   "cell_type": "code",
   "execution_count": 1,
   "metadata": {},
   "outputs": [
    {
     "data": {
      "text/plain": [
       "getVoronoiDiagram (generic function with 1 method)"
      ]
     },
     "execution_count": 1,
     "metadata": {},
     "output_type": "execute_result"
    }
   ],
   "source": [
    "include(\"Operaciones_Basicas.jl\")\n",
    "include(\"Red_Dual.jl\")\n",
    "include(\"Separacion_Arreglos_X_Y.jl\")\n",
    "include(\"Generador_Vecindades_Pto_Arbitrario.jl\")\n",
    "include(\"Dentro_Fuera_Poligono.jl\")\n",
    "include(\"Algoritmo_Radio.jl\")\n",
    "include(\"Algoritmo_Voronoi.jl\")\n",
    "include(\"Algoritmo_Sin_Acotar.jl\")\n",
    "include(\"voronoi.jl\")"
   ]
  },
  {
   "cell_type": "markdown",
   "metadata": {},
   "source": [
    "We will use the package \"Plots\" to visualize the polygons of the Neighborhood and the Voronoi's polygons. So, let's load it."
   ]
  },
  {
   "cell_type": "code",
   "execution_count": 2,
   "metadata": {},
   "outputs": [],
   "source": [
    "using Plots"
   ]
  },
  {
   "cell_type": "markdown",
   "metadata": {},
   "source": [
    "### Information about the Quasiperiodic Lattice"
   ]
  },
  {
   "cell_type": "markdown",
   "metadata": {},
   "source": [
    "Create the information of the star vectors required by the GDM algorithm, which determine the symmetry of the quasiperiodic lattice. Also, generate the array that contains the alpha constants and the array with the average distance between stripes."
   ]
  },
  {
   "cell_type": "code",
   "execution_count": 3,
   "metadata": {},
   "outputs": [],
   "source": [
    "NSides = 121; #Symmetry of the quasiperiodic lattice\n",
    "\n",
    "Star_Vectors = [[BigFloat(1),0]]; #Array wich will contain the Star Vectors\n",
    "\n",
    "for i in 1:(NSides-1)\n",
    "    push!(Star_Vectors, [cos((2*i)*pi/NSides), sin((2*i)*pi/NSides)]); #Complete the Star_Vector Array\n",
    "end\n",
    "\n",
    "Alphas_Array = fill(0.2, NSides); #Array of the alphas constant\n",
    "\n",
    "Average_Distance_Stripes = fill(NSides/2, NSides); #Array with the average distance between stripes"
   ]
  },
  {
   "cell_type": "markdown",
   "metadata": {},
   "source": [
    "### Three metods to get container polygon"
   ]
  },
  {
   "cell_type": "markdown",
   "metadata": {},
   "source": [
    "First, let's generate the neighborhood of the quasiperiodic lattice around an arbitrary point.\n",
    "\n",
    "The three metods will work with the same point."
   ]
  },
  {
   "cell_type": "code",
   "execution_count": 4,
   "metadata": {},
   "outputs": [
    {
     "name": "stdout",
     "output_type": "stream",
     "text": [
      "  2.365137 seconds (33.03 M allocations: 1.784 GiB, 14.74% gc time)\n",
      "There are 7260.0 polygons in the Neighborhood.\n"
     ]
    }
   ],
   "source": [
    "N = 0; #The margin of error to consider\n",
    "\n",
    "SL = 1e10; #Size of a half side of the square in which the algorithm generate a random point inside it\n",
    "\n",
    "#Let's get the Neighborhood around an arbitrary point without any special algorithm\n",
    "@time X, Y, APoint, Dual_Points_Information, Projections = region_Local(N, SL, Average_Distance_Stripes, Star_Vectors, Alphas_Array);\n",
    "println(\"There are $(length(X)/4) polygons in the Neighborhood.\")"
   ]
  },
  {
   "cell_type": "code",
   "execution_count": 5,
   "metadata": {},
   "outputs": [
    {
     "name": "stdout",
     "output_type": "stream",
     "text": [
      "  2.178435 seconds (32.23 M allocations: 1.741 GiB, 16.32% gc time)\n",
      "There are 29.0 polygons in the Neighborhood using the Radius Algorithm with Radius = 2.\n"
     ]
    }
   ],
   "source": [
    "N = 0; #The margin of error to consider\n",
    "\n",
    "SL = 1e10; #Size of a half side of the square in which the algorithm generate a random point inside it\n",
    "\n",
    "Radius = 2; #Size of the radius to use at the circle centered in the point of interest\n",
    "\n",
    "@time X_R, Y_R, APoint_R, Dual_Points_Information_R, Projections_R = region_Local_Radio(N, SL, Radius, Average_Distance_Stripes, Star_Vectors, Alphas_Array, APoint);\n",
    "println(\"There are $(length(X_R)/4) polygons in the Neighborhood using the Radius Algorithm with Radius = 2.\")"
   ]
  },
  {
   "cell_type": "code",
   "execution_count": 6,
   "metadata": {},
   "outputs": [
    {
     "name": "stdout",
     "output_type": "stream",
     "text": [
      "  2.157698 seconds (31.73 M allocations: 1.721 GiB, 27.57% gc time)\n",
      "There are 7260.0 polygons in the Neighborhood using the Voronoi Algorithm.\n"
     ]
    }
   ],
   "source": [
    "N = 0; #The margin of error to consider\n",
    "\n",
    "SL = 1e10; #Size of a half side of the square in which the algorithm generate a random point inside it\n",
    "\n",
    "@time X_V, Y_V, APoint_V = region_Local_Voronoi(N, SL, Average_Distance_Stripes, Star_Vectors, Alphas_Array, APoint); #Algoritmo Voronoi\n",
    "println(\"There are $(length(X_V)/4) polygons in the Neighborhood using the Voronoi Algorithm.\")"
   ]
  },
  {
   "cell_type": "markdown",
   "metadata": {},
   "source": [
    "Now, let's find the container polygon and visualize it."
   ]
  },
  {
   "cell_type": "code",
   "execution_count": 7,
   "metadata": {},
   "outputs": [
    {
     "name": "stdout",
     "output_type": "stream",
     "text": [
      "Without special algorithm\n",
      "  1.596898 seconds (8.12 M allocations: 380.509 MiB, 7.42% gc time)\n"
     ]
    },
    {
     "data": {
      "image/svg+xml": [
       "<?xml version=\"1.0\" encoding=\"utf-8\"?>\n",
       "<svg xmlns=\"http://www.w3.org/2000/svg\" xmlns:xlink=\"http://www.w3.org/1999/xlink\" width=\"600\" height=\"400\" viewBox=\"0 0 2400 1600\">\n",
       "<defs>\n",
       "  <clipPath id=\"clip3800\">\n",
       "    <rect x=\"0\" y=\"0\" width=\"2400\" height=\"1600\"/>\n",
       "  </clipPath>\n",
       "</defs>\n",
       "<path clip-path=\"url(#clip3800)\" d=\"\n",
       "M0 1600 L2400 1600 L2400 0 L0 0  Z\n",
       "  \" fill=\"#ffffff\" fill-rule=\"evenodd\" fill-opacity=\"1\"/>\n",
       "<defs>\n",
       "  <clipPath id=\"clip3801\">\n",
       "    <rect x=\"480\" y=\"0\" width=\"1681\" height=\"1600\"/>\n",
       "  </clipPath>\n",
       "</defs>\n",
       "<path clip-path=\"url(#clip3800)\" d=\"\n",
       "M86.9923 1521.01 L2352.76 1521.01 L2352.76 47.2441 L86.9923 47.2441  Z\n",
       "  \" fill=\"#ffffff\" fill-rule=\"evenodd\" fill-opacity=\"1\"/>\n",
       "<defs>\n",
       "  <clipPath id=\"clip3802\">\n",
       "    <rect x=\"86\" y=\"47\" width=\"2267\" height=\"1475\"/>\n",
       "  </clipPath>\n",
       "</defs>\n",
       "<polyline clip-path=\"url(#clip3800)\" style=\"stroke:#000000; stroke-width:4; stroke-opacity:1; fill:none\" points=\"\n",
       "  86.9923,1521.01 2352.76,1521.01 \n",
       "  \"/>\n",
       "<polyline clip-path=\"url(#clip3800)\" style=\"stroke:#000000; stroke-width:4; stroke-opacity:1; fill:none\" points=\"\n",
       "  86.9923,1521.01 86.9923,47.2439 \n",
       "  \"/>\n",
       "<polyline clip-path=\"url(#clip3802)\" style=\"stroke:#000000; stroke-width:4; stroke-opacity:1; fill:none\" points=\"\n",
       "  303.69,688.633 1147.42,1479.3 2136.06,879.619 1292.33,88.9542 303.69,688.633 \n",
       "  \"/>\n",
       "<circle clip-path=\"url(#clip3802)\" style=\"fill:#ff0000; stroke:none; fill-opacity:0.5\" cx=\"1581.28\" cy=\"928.255\" r=\"18\"/>\n",
       "</svg>\n"
      ]
     },
     "execution_count": 7,
     "metadata": {},
     "output_type": "execute_result"
    }
   ],
   "source": [
    "println(\"Without special algorithm\")\n",
    "#Let's obtain the vertices (P1,P2,P3,P4) of the container polygon and his information\n",
    "@time P1, P2, P3, P4, Container_Polygon_Information = poligono_Contenedor(X, Y, APoint, Dual_Points_Information, Star_Vectors, Alphas_Array);\n",
    "\n",
    "#Let's visualize the container polygon\n",
    "plot()\n",
    "plot([P1[1], P2[1], P3[1], P4[1], P1[1]], [P1[2], P2[2], P3[2], P4[2], P1[2]], markersize = 0.2, key = false, aspect_ratio=:equal, grid = false, color =:black, xaxis = nothing, yaxis = nothing)\n",
    "scatter!([APoint[1]], [APoint[2]], markersize = 5, markeralpha = 0.5, markerstrokewidth = 0, markercolor = :red, xaxis = nothing, yaxis = nothing)"
   ]
  },
  {
   "cell_type": "code",
   "execution_count": 8,
   "metadata": {},
   "outputs": [
    {
     "name": "stdout",
     "output_type": "stream",
     "text": [
      "Radius Algorithm\n",
      "  0.015498 seconds (34.45 k allocations: 1.691 MiB)\n"
     ]
    },
    {
     "data": {
      "image/svg+xml": [
       "<?xml version=\"1.0\" encoding=\"utf-8\"?>\n",
       "<svg xmlns=\"http://www.w3.org/2000/svg\" xmlns:xlink=\"http://www.w3.org/1999/xlink\" width=\"600\" height=\"400\" viewBox=\"0 0 2400 1600\">\n",
       "<defs>\n",
       "  <clipPath id=\"clip4200\">\n",
       "    <rect x=\"0\" y=\"0\" width=\"2400\" height=\"1600\"/>\n",
       "  </clipPath>\n",
       "</defs>\n",
       "<path clip-path=\"url(#clip4200)\" d=\"\n",
       "M0 1600 L2400 1600 L2400 0 L0 0  Z\n",
       "  \" fill=\"#ffffff\" fill-rule=\"evenodd\" fill-opacity=\"1\"/>\n",
       "<defs>\n",
       "  <clipPath id=\"clip4201\">\n",
       "    <rect x=\"480\" y=\"0\" width=\"1681\" height=\"1600\"/>\n",
       "  </clipPath>\n",
       "</defs>\n",
       "<path clip-path=\"url(#clip4200)\" d=\"\n",
       "M86.9923 1521.01 L2352.76 1521.01 L2352.76 47.2441 L86.9923 47.2441  Z\n",
       "  \" fill=\"#ffffff\" fill-rule=\"evenodd\" fill-opacity=\"1\"/>\n",
       "<defs>\n",
       "  <clipPath id=\"clip4202\">\n",
       "    <rect x=\"86\" y=\"47\" width=\"2267\" height=\"1475\"/>\n",
       "  </clipPath>\n",
       "</defs>\n",
       "<polyline clip-path=\"url(#clip4200)\" style=\"stroke:#000000; stroke-width:4; stroke-opacity:1; fill:none\" points=\"\n",
       "  86.9923,1521.01 2352.76,1521.01 \n",
       "  \"/>\n",
       "<polyline clip-path=\"url(#clip4200)\" style=\"stroke:#000000; stroke-width:4; stroke-opacity:1; fill:none\" points=\"\n",
       "  86.9923,1521.01 86.9923,47.2439 \n",
       "  \"/>\n",
       "<polyline clip-path=\"url(#clip4202)\" style=\"stroke:#000000; stroke-width:4; stroke-opacity:1; fill:none\" points=\"\n",
       "  303.69,688.633 1147.42,1479.3 2136.06,879.619 1292.33,88.9542 303.69,688.633 \n",
       "  \"/>\n",
       "<circle clip-path=\"url(#clip4202)\" style=\"fill:#ff0000; stroke:none; fill-opacity:0.5\" cx=\"1581.28\" cy=\"928.255\" r=\"18\"/>\n",
       "</svg>\n"
      ]
     },
     "execution_count": 8,
     "metadata": {},
     "output_type": "execute_result"
    }
   ],
   "source": [
    "println(\"Radius Algorithm\")\n",
    "#Let's obtain the vertices (P1,P2,P3,P4) of the container polygon and his information\n",
    "@time P1_R, P2_R, P3_R, P4_R, Container_Polygon_Information_R = poligono_Contenedor_Radio(X_R, Y_R, APoint_R, Dual_Points_Information_R, Star_Vectors, Alphas_Array);\n",
    "\n",
    "#Let's visualize the container polygon\n",
    "plot()\n",
    "plot([P1_R[1], P2_R[1], P3_R[1], P4_R[1], P1_R[1]], [P1_R[2], P2_R[2], P3_R[2], P4_R[2], P1_R[2]], markersize = 0.2, key = false, aspect_ratio=:equal, grid = false, color =:black, xaxis = nothing, yaxis = nothing)\n",
    "scatter!([APoint_R[1]], [APoint_R[2]], markersize = 5, markeralpha = 0.5, markerstrokewidth = 0, markercolor = :red, xaxis = nothing, yaxis = nothing)"
   ]
  },
  {
   "cell_type": "code",
   "execution_count": 9,
   "metadata": {},
   "outputs": [
    {
     "name": "stdout",
     "output_type": "stream",
     "text": [
      "Voronoi's Algorithm\n",
      "  1.207909 seconds (2.88 M allocations: 122.495 MiB, 3.98% gc time)\n"
     ]
    },
    {
     "data": {
      "image/svg+xml": [
       "<?xml version=\"1.0\" encoding=\"utf-8\"?>\n",
       "<svg xmlns=\"http://www.w3.org/2000/svg\" xmlns:xlink=\"http://www.w3.org/1999/xlink\" width=\"600\" height=\"400\" viewBox=\"0 0 2400 1600\">\n",
       "<defs>\n",
       "  <clipPath id=\"clip4600\">\n",
       "    <rect x=\"0\" y=\"0\" width=\"2400\" height=\"1600\"/>\n",
       "  </clipPath>\n",
       "</defs>\n",
       "<path clip-path=\"url(#clip4600)\" d=\"\n",
       "M0 1600 L2400 1600 L2400 0 L0 0  Z\n",
       "  \" fill=\"#ffffff\" fill-rule=\"evenodd\" fill-opacity=\"1\"/>\n",
       "<defs>\n",
       "  <clipPath id=\"clip4601\">\n",
       "    <rect x=\"480\" y=\"0\" width=\"1681\" height=\"1600\"/>\n",
       "  </clipPath>\n",
       "</defs>\n",
       "<path clip-path=\"url(#clip4600)\" d=\"\n",
       "M86.9923 1521.01 L2352.76 1521.01 L2352.76 47.2441 L86.9923 47.2441  Z\n",
       "  \" fill=\"#ffffff\" fill-rule=\"evenodd\" fill-opacity=\"1\"/>\n",
       "<defs>\n",
       "  <clipPath id=\"clip4602\">\n",
       "    <rect x=\"86\" y=\"47\" width=\"2267\" height=\"1475\"/>\n",
       "  </clipPath>\n",
       "</defs>\n",
       "<polyline clip-path=\"url(#clip4600)\" style=\"stroke:#000000; stroke-width:4; stroke-opacity:1; fill:none\" points=\"\n",
       "  86.9923,1521.01 2352.76,1521.01 \n",
       "  \"/>\n",
       "<polyline clip-path=\"url(#clip4600)\" style=\"stroke:#000000; stroke-width:4; stroke-opacity:1; fill:none\" points=\"\n",
       "  86.9923,1521.01 86.9923,47.2439 \n",
       "  \"/>\n",
       "<polyline clip-path=\"url(#clip4602)\" style=\"stroke:#000000; stroke-width:4; stroke-opacity:1; fill:none\" points=\"\n",
       "  303.69,688.633 1147.42,1479.3 2136.06,879.619 1292.33,88.9542 303.69,688.633 \n",
       "  \"/>\n",
       "<circle clip-path=\"url(#clip4602)\" style=\"fill:#ff0000; stroke:none; fill-opacity:0.5\" cx=\"1581.28\" cy=\"928.255\" r=\"18\"/>\n",
       "</svg>\n"
      ]
     },
     "execution_count": 9,
     "metadata": {},
     "output_type": "execute_result"
    }
   ],
   "source": [
    "println(\"Voronoi's Algorithm\")\n",
    "#Let's obtain the polygon structure of the container polygon (as a 4 segment/sides)\n",
    "@time Container_Polygon_V = poligono_Contenedor_Voronoi(X_V, Y_V, APoint_V);\n",
    "\n",
    "#Let's visualize the container polygon\n",
    "plot()\n",
    "plot([Container_Polygon_V[1].inicio[1], Container_Polygon_V[2].inicio[1], Container_Polygon_V[3].inicio[1], Container_Polygon_V[4].inicio[1], Container_Polygon_V[1].inicio[1]], [Container_Polygon_V[1].inicio[2], Container_Polygon_V[2].inicio[2], Container_Polygon_V[3].inicio[2], Container_Polygon_V[4].inicio[2], Container_Polygon_V[1].inicio[2]], markersize = 0.2, key = false, aspect_ratio=:equal, grid = false, color =:black, xaxis = nothing, yaxis = nothing)\n",
    "scatter!([APoint_V[1]], [APoint_V[2]], markersize = 5, markeralpha = 0.5, markerstrokewidth = 0, markercolor = :red, xaxis = nothing, yaxis = nothing)"
   ]
  },
  {
   "cell_type": "code",
   "execution_count": null,
   "metadata": {},
   "outputs": [],
   "source": []
  }
 ],
 "metadata": {
  "kernelspec": {
   "display_name": "Julia 1.3.0",
   "language": "julia",
   "name": "julia-1.3"
  },
  "language_info": {
   "file_extension": ".jl",
   "mimetype": "application/julia",
   "name": "julia",
   "version": "1.3.0"
  }
 },
 "nbformat": 4,
 "nbformat_minor": 2
}
