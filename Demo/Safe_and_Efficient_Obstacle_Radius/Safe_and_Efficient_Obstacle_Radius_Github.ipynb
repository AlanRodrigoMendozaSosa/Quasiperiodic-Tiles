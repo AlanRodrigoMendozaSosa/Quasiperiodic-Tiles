{
 "cells": [
  {
   "cell_type": "markdown",
   "metadata": {},
   "source": [
    "# Safe and efficient radius fo the obstacles in the Quasiperiodic Array"
   ]
  },
  {
   "cell_type": "markdown",
   "metadata": {},
   "source": [
    "At this point, we are able to simulate the dynamic of a particle inside of any Quasiperiodic Array, but this is only true if each of the Voronoi's Polygons associated to each vertex of the Quasiperiodic Array contain one and only one of the obstacles.\n",
    "\n",
    "The problem now is find out which is the maximum radius possible that ensures us that hypothesis. In this notebook, we will make an algorithm that give us that radius.\n",
    "\n",
    "The general idea is the next one:\n",
    "\n",
    "1.- Generate a Square Patch centered in a random point in the plane.\n",
    "\n",
    "2.- Get the Voronoi's Polygons structure to the vertices given by the Square Patch algorithm.\n",
    "\n",
    "3.- Calculate the minimum distance between the vertex of the Quasiperiodic Array and the sides of his container polygon.\n",
    "\n",
    "4.- Iterate that calculation over all the vertices in the Square Patch and retain only the minimum value.\n",
    "\n",
    "5.- Iterates over a given number of Square Patches."
   ]
  },
  {
   "cell_type": "code",
   "execution_count": 1,
   "metadata": {},
   "outputs": [
    {
     "data": {
      "text/plain": [
       "radio_Eficiente_Seguro_Iterado (generic function with 1 method)"
      ]
     },
     "execution_count": 1,
     "metadata": {},
     "output_type": "execute_result"
    }
   ],
   "source": [
    "#The following packages are required:\n",
    "using Plots\n",
    "using DelimitedFiles\n",
    "using LinearAlgebra\n",
    "\n",
    "#The following files are required:\n",
    "include(\"Operaciones_Basicas.jl\")\n",
    "include(\"Red_Dual.jl\")\n",
    "include(\"Separacion_Arreglos_X_Y.jl\")\n",
    "include(\"Generador_Vecindades_Pto_Arbitrario.jl\")\n",
    "include(\"voronoi.jl\")\n",
    "include(\"Algoritmo_Voronoi.jl\")\n",
    "include(\"Algoritmo_Cluster_Principal_Iterado.jl\")\n",
    "include(\"Algoritmo_Parche_Cuadrado.jl\")\n",
    "include(\"Algoritmo_Radio_Seguro_Eficiente_Obstaculos.jl\")"
   ]
  },
  {
   "cell_type": "markdown",
   "metadata": {},
   "source": [
    "##### System Information"
   ]
  },
  {
   "cell_type": "code",
   "execution_count": 2,
   "metadata": {},
   "outputs": [],
   "source": [
    "#Information of the Quasiperiodic Array\n",
    "NSides = 5; #Symmetry of the quasiperiodic lattice\n",
    "Error_Margin = 2; #Margin of error in the GDM of the possible integers\n",
    "Star_Vectors = [[BigFloat(1),0]]; #Array wich will contain the Star Vectors\n",
    "for i in 1:(NSides-1)\n",
    "    push!(Star_Vectors, [cos((2*i)*pi/NSides), sin((2*i)*pi/NSides)]); #Complete the Star_Vector Array\n",
    "end\n",
    "Alphas_Array = fill(0.2, NSides); #Array of the alphas constant\n",
    "Average_Distance_Stripes = fill(NSides/2, NSides); #Array with the average distance between stripes\n",
    "\n",
    "#Let's read the information of the almost-circular neighborhoods of the system\n",
    "Patch_Information = readdlm(\"Informacion_Parche_N_$(NSides).csv\", BigFloat);\n",
    "Reduction_Factor = 0.8; #The factor with which we multiple the Average Radius to generate the Safe Radius\n",
    "Average_Radius = Patch_Information[end]; #The value of the previously calculated \"Average Radius\"\n",
    "Safe_Radius = Reduction_Factor*Average_Radius; #The Safe Radius value"
   ]
  },
  {
   "cell_type": "markdown",
   "metadata": {},
   "source": [
    "## One single Square Patch"
   ]
  },
  {
   "cell_type": "markdown",
   "metadata": {},
   "source": [
    "##### Square Patch Generation"
   ]
  },
  {
   "cell_type": "code",
   "execution_count": 3,
   "metadata": {},
   "outputs": [],
   "source": [
    "#Generate a square patch of the Quasiperiodic Array around the Initial Position\n",
    "X,Y,APoint_Initial,Centroids,Dictionary_Centroids = parche_Cuadrado(Patch_Information,Patch_Information[2],Reduction_Factor,Average_Distance_Stripes,Star_Vectors,Alphas_Array);"
   ]
  },
  {
   "cell_type": "code",
   "execution_count": 4,
   "metadata": {},
   "outputs": [],
   "source": [
    "#=\n",
    "plot()\n",
    "for i in 1:4:length(X)\n",
    "    plot!([X[i],X[i+1],X[i+2],X[i+3],X[i]],[Y[i],Y[i+1],Y[i+2],Y[i+3],Y[i]], markersize = 0.2, key = false, aspect_ratio=:equal, grid = false, color =:black)\n",
    "end\n",
    "plot!()\n",
    "scatter!([APoint_Initial[1]], [APoint_Initial[2]], color = \"red\")\n",
    "scatter!([APoint_Initial[1]+sqrt(2)*Safe_Radius], [APoint_Initial[2]+sqrt(2)*Safe_Radius], color = \"red\")\n",
    "scatter!([APoint_Initial[1]-sqrt(2)*Safe_Radius], [APoint_Initial[2]+sqrt(2)*Safe_Radius], color = \"red\")\n",
    "scatter!([APoint_Initial[1]-sqrt(2)*Safe_Radius], [APoint_Initial[2]-sqrt(2)*Safe_Radius], color = \"red\")\n",
    "scatter!([APoint_Initial[1]+sqrt(2)*Safe_Radius], [APoint_Initial[2]-sqrt(2)*Safe_Radius], color = \"red\")\n",
    "=#"
   ]
  },
  {
   "cell_type": "markdown",
   "metadata": {},
   "source": [
    "##### Voronoi's Polygons structure for the Vertices of the Square Patch"
   ]
  },
  {
   "cell_type": "code",
   "execution_count": 5,
   "metadata": {},
   "outputs": [],
   "source": [
    "#Obtain the vertices of all the polygons as duples.\n",
    "Sites_Vertices = [(Float64(X[i]), Float64(Y[i])) for i in 1:length(X)];\n",
    "unique!(Sites_Vertices); #Eliminate all the copies of a vertex\n",
    "\n",
    "#Get the Voronoi structure with only the non-repeated vertices\n",
    "Voronoi_Vertices = getVoronoiDiagram(Sites_Vertices);\n",
    "\n",
    "#Let's generate a Dictionary with the coordinates of the vertices that lay inside the square cluster.\n",
    "#The Dictionary relates \"Vertex (X,Y) -> \"true\" or \"false\" depending if the vertex is inside the square or not\n",
    "Dictionary_Vertices_Inside_Square = Dict();\n",
    "for i in Sites_Vertices\n",
    "    if (APoint_Initial[1]-sqrt(2)*Safe_Radius <= i[1] <= APoint_Initial[1]+sqrt(2)*Safe_Radius) && (APoint_Initial[2]-sqrt(2)*Safe_Radius <= i[2] <= APoint_Initial[2]+sqrt(2)*Safe_Radius)\n",
    "        Dictionary_Vertices_Inside_Square[i] = true;\n",
    "    else\n",
    "        Dictionary_Vertices_Inside_Square[i] = false;\n",
    "    end\n",
    "end"
   ]
  },
  {
   "cell_type": "markdown",
   "metadata": {},
   "source": [
    "##### Visualization of the Square Patch vertices"
   ]
  },
  {
   "cell_type": "code",
   "execution_count": 6,
   "metadata": {},
   "outputs": [],
   "source": [
    "X_Unique,Y_Unique = separacion_Arreglo_de_Arreglos_2D(Sites_Vertices);"
   ]
  },
  {
   "cell_type": "code",
   "execution_count": 7,
   "metadata": {},
   "outputs": [],
   "source": [
    "#=\n",
    "plot()\n",
    "for i in 1:length(X_Unique)\n",
    "    scatter!([X_Unique[i]], [Y_Unique[i]], color = \"black\", markersize = .25, aspectratio=:equal, leg = false)\n",
    "end\n",
    "plot!()\n",
    "=#"
   ]
  },
  {
   "cell_type": "markdown",
   "metadata": {},
   "source": [
    "##### Obtain the safe radius of a single square patch"
   ]
  },
  {
   "cell_type": "code",
   "execution_count": 8,
   "metadata": {},
   "outputs": [
    {
     "data": {
      "text/plain": [
       "0.30307676954024876"
      ]
     },
     "execution_count": 8,
     "metadata": {},
     "output_type": "execute_result"
    }
   ],
   "source": [
    "Safe_Obstacle_Radius = radio_Eficiente_Seguro(Voronoi_Vertices, Dictionary_Vertices_Inside_Square)"
   ]
  },
  {
   "cell_type": "markdown",
   "metadata": {},
   "source": [
    "## Iterates over many differents square patches"
   ]
  },
  {
   "cell_type": "code",
   "execution_count": 9,
   "metadata": {},
   "outputs": [
    {
     "name": "stdout",
     "output_type": "stream",
     "text": [
      "The algorithm is calculating the Minimum Distance in the Square Patch 1\n",
      "The algorithm is calculating the Minimum Distance in the Square Patch 2\n",
      "The algorithm is calculating the Minimum Distance in the Square Patch 3\n",
      "The algorithm is calculating the Minimum Distance in the Square Patch 4\n",
      "The algorithm is calculating the Minimum Distance in the Square Patch 5\n",
      "The algorithm is calculating the Minimum Distance in the Square Patch 6\n",
      "The algorithm is calculating the Minimum Distance in the Square Patch 7\n",
      "The algorithm is calculating the Minimum Distance in the Square Patch 8\n",
      "The algorithm is calculating the Minimum Distance in the Square Patch 9\n",
      "The algorithm is calculating the Minimum Distance in the Square Patch 10\n"
     ]
    },
    {
     "data": {
      "text/plain": [
       "0.2938926248195979"
      ]
     },
     "execution_count": 9,
     "metadata": {},
     "output_type": "execute_result"
    }
   ],
   "source": [
    "Number_Square_Patch = 10; #The number of different Square Patch that desire to look for.\n",
    "\n",
    "Safe_Obstacle_Radius = radio_Eficiente_Seguro_Iterado(Number_Square_Patch,Patch_Information,Reduction_Factor,Average_Distance_Stripes,Star_Vectors,Alphas_Array)"
   ]
  },
  {
   "cell_type": "code",
   "execution_count": null,
   "metadata": {},
   "outputs": [],
   "source": []
  }
 ],
 "metadata": {
  "kernelspec": {
   "display_name": "Julia 1.2.0",
   "language": "julia",
   "name": "julia-1.2"
  },
  "language_info": {
   "file_extension": ".jl",
   "mimetype": "application/julia",
   "name": "julia",
   "version": "1.2.0"
  }
 },
 "nbformat": 4,
 "nbformat_minor": 2
}
