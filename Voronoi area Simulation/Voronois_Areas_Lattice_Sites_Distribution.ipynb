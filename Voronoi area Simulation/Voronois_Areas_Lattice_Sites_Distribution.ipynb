{
 "cells": [
  {
   "cell_type": "markdown",
   "metadata": {},
   "source": [
    "# Nearest Neighbor Distance Distribution"
   ]
  },
  {
   "cell_type": "markdown",
   "metadata": {},
   "source": [
    "##### Load some packages and previous functions"
   ]
  },
  {
   "cell_type": "code",
   "execution_count": 1,
   "metadata": {},
   "outputs": [
    {
     "data": {
      "text/plain": [
       "areas_Poligonos_Voronoi (generic function with 1 method)"
      ]
     },
     "execution_count": 1,
     "metadata": {},
     "output_type": "execute_result"
    }
   ],
   "source": [
    "#The following packages are required to read and write files, as well as generate linear algebra calculations\n",
    "using DelimitedFiles\n",
    "using LinearAlgebra\n",
    "using Plots\n",
    "\n",
    "#The following files with Julia functions are required\n",
    "include(\"Operaciones_Basicas.jl\")\n",
    "include(\"Red_Dual.jl\")\n",
    "include(\"Separacion_Arreglos_X_Y.jl\")\n",
    "include(\"Generador_Vecindades_Pto_Arbitrario.jl\")\n",
    "include(\"voronoi.jl\")\n",
    "include(\"Algoritmo_Voronoi.jl\")\n",
    "include(\"Algoritmo_Cluster_Principal.jl\")\n",
    "include(\"Diccionario_Indices_Centroides_Voronoi.jl\")\n",
    "include(\"Algoritmo_Areas_Voronoi.jl\")"
   ]
  },
  {
   "cell_type": "markdown",
   "metadata": {},
   "source": [
    "#### We generate the parameters that determine the type of quasiperiodic arrangement that we are going to build"
   ]
  },
  {
   "cell_type": "code",
   "execution_count": 2,
   "metadata": {},
   "outputs": [],
   "source": [
    "NSides = 5; #Rotational symmetry of the quasiperiodic lattice\n",
    "Star_Vectors = [[BigFloat(1),0]]; #Arrangement that will contain the star vectors\n",
    "for i in 1:(NSides-1)\n",
    "    push!(Star_Vectors, [cos((2*i)*pi/NSides), sin((2*i)*pi/NSides)]); #Vertices of the polygon with \"NSides\" sides\n",
    "end\n",
    "Alphas_Array = fill(0.2, NSides); #Array with the alpha constants of the GDM\n",
    "Average_Distance_Stripes = fill(NSides/2, NSides); #Array with the average spacing between stripes\n",
    "\n",
    "#Information from the patch\n",
    "Error_Margin = 5; #Margin of error in the integers \"n\" associated with the star vectors of the GDM\n",
    "SL = 1e6; #Size of the half side of the square centered on the (0,0) where a starting position is sought.\n",
    "Bounded_Area = 1.2; #The value for the area of the polygons that will be a discriminator value in the areas algorithm\n",
    "Reduction_Factor = 0.7; #Factor to generate a \"safe radius\""
   ]
  },
  {
   "cell_type": "markdown",
   "metadata": {},
   "source": [
    "#### Let's iterate the function to get the distribution of the first neighbor distance"
   ]
  },
  {
   "cell_type": "code",
   "execution_count": 3,
   "metadata": {},
   "outputs": [],
   "source": [
    "Number_Vertices = 100000; #Total number of vertices to analyze\n",
    "Complete_Array_Areas = []; #Array with all the areas of the Voronoi's Polygons from all the patches\n",
    "i=1; #Counter to know the actual iteration\n",
    "\n",
    "while length(Complete_Array_Areas) < Number_Vertices\n",
    "    if mod(i,10) == 0\n",
    "        open(\"Estado_AD_N_$(NSides).txt\", \"w\") do file\n",
    "            write(file, \"Estamos calculando el parche $(i); se han analizado $(length(Complete_Array_Areas)) vértices.\")\n",
    "        end\n",
    "    end\n",
    "    Areas_Array = areas_Poligonos_Voronoi(Error_Margin, SL, Bounded_Area, Reduction_Factor, Average_Distance_Stripes, Star_Vectors, Alphas_Array);\n",
    "    Complete_Array_Areas = vcat(Complete_Array_Areas, Areas_Array)\n",
    "    i+=1;\n",
    "end"
   ]
  },
  {
   "cell_type": "code",
   "execution_count": 4,
   "metadata": {},
   "outputs": [],
   "source": [
    "writedlm(\"Voronoi_Areas_Lattice_Sites_Distribution_N_$(NSides).csv\", Complete_Array_Areas, ',')"
   ]
  },
  {
   "cell_type": "code",
   "execution_count": null,
   "metadata": {},
   "outputs": [],
   "source": []
  }
 ],
 "metadata": {
  "kernelspec": {
   "display_name": "Julia 1.3.0",
   "language": "julia",
   "name": "julia-1.3"
  },
  "language_info": {
   "file_extension": ".jl",
   "mimetype": "application/julia",
   "name": "julia",
   "version": "1.3.0"
  }
 },
 "nbformat": 4,
 "nbformat_minor": 2
}
