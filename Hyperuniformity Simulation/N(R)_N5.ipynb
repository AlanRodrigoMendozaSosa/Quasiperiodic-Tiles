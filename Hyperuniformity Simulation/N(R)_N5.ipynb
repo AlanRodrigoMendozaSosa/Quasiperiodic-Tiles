{
 "cells": [
  {
   "cell_type": "markdown",
   "metadata": {},
   "source": [
    "#### Cargamos las funciones y archivos necesarios"
   ]
  },
  {
   "cell_type": "code",
   "execution_count": 1,
   "metadata": {},
   "outputs": [
    {
     "data": {
      "text/plain": [
       "diccionario_Centroides_Indice_Voronoi (generic function with 1 method)"
      ]
     },
     "execution_count": 1,
     "metadata": {},
     "output_type": "execute_result"
    }
   ],
   "source": [
    "#The following packages are required to read and write files, as well as generate linear algebra calculations\n",
    "using DelimitedFiles\n",
    "using LinearAlgebra\n",
    "\n",
    "#The following files with Julia functions are required\n",
    "include(\"Operaciones_Basicas.jl\")\n",
    "include(\"Red_Dual.jl\")\n",
    "include(\"Separacion_Arreglos_X_Y.jl\")\n",
    "include(\"Generador_Vecindades_Pto_Arbitrario.jl\")\n",
    "include(\"Algoritmo_Voronoi.jl\")\n",
    "include(\"Algoritmo_Cluster_Principal.jl\")\n",
    "include(\"Diccionario_Indices_Centroides_Voronoi.jl\")"
   ]
  },
  {
   "cell_type": "markdown",
   "metadata": {},
   "source": [
    "## Algoritmo Radio Cluster (Funciona para todo SL, pero requiere conocer el beta)"
   ]
  },
  {
   "cell_type": "code",
   "execution_count": 4,
   "metadata": {
    "scrolled": true
   },
   "outputs": [],
   "source": [
    "NSides = 5; #Rotational symmetry of the quasiperiodic lattice\n",
    "Star_Vectors = [[BigFloat(1),0]]; #Arrangement that will contain the star vectors\n",
    "for i in 1:(NSides-1)\n",
    "    push!(Star_Vectors, [cos((2*i)*pi/NSides), sin((2*i)*pi/NSides)]); #Vertices of the polygon with \"NSides\" sides\n",
    "end\n",
    "Alphas_Array = fill(0.0, NSides); #Array with the alpha constants of the GDM\n",
    "Average_Distance_Stripes = fill(NSides/2, NSides); #Array with the average spacing between stripes\n",
    "\n",
    "Error_Margin = 300; #Margin of error in the integers \"n\" associated with the star vectors of the GDM\n",
    "Radius = 720; #Radius of the main cluster patch for the neighborhood around an arbitrary point\n",
    "\n",
    "#Information for the N(R) array calculation\n",
    "Step = 100000;\n",
    "R = (Radius/Step):(Radius/Step):Radius;\n",
    "\n",
    "SL = 1e12; #Size of the half side of the square centered on the (0,0) where a starting position is sought.\n",
    "###################################################################################################################\n",
    "\n",
    "for k in 1:400\n",
    "    open(\"Estado_TorquatoNR_N$(NSides)_Alfa0P0_1.txt\", \"w\") do file\n",
    "        write(file, \"Estamos generando el cluster $(k).\")\n",
    "    end\n",
    "\n",
    "    APoint = punto_Arbitrario(SL); #We generate an arbitrary point inside the square centered on the (0,0)\n",
    "\n",
    "    #We generate the local neighborhood around the Test_Point point\n",
    "    Dual_Points = region_Local_Voronoi(Error_Margin, Average_Distance_Stripes, Star_Vectors, Alphas_Array, APoint);\n",
    "    unique!(Dual_Points);\n",
    "\n",
    "    Cluster_Sites = [];\n",
    "    for e in Dual_Points\n",
    "        if norm(e-APoint) < Radius\n",
    "            push!(Cluster_Sites, e)\n",
    "        end\n",
    "    end\n",
    "    \n",
    "    #Sort the list by the distance to the center of the cluster\n",
    "    sort!(Cluster_Sites, by=x->norm(x-APoint))\n",
    "\n",
    "    #Generate the array that will be the N(r) array\n",
    "    N_R = zeros(length(R));\n",
    "    \n",
    "    #We obtain the first element that satisfies that his distant to the center of the cluster is bigger than the R[i]\n",
    "    FirstIndex = 1;\n",
    "    for i in 1:length(R)\n",
    "        for j in FirstIndex:length(Cluster_Sites)\n",
    "            if j == length(Cluster_Sites)\n",
    "                N_R[i] = j; First_Index = j;\n",
    "            else\n",
    "                (norm(Cluster_Sites[j]-APoint) > R[i]) ? (N_R[i] = j-1; FirstIndex = j; break) : (nothing)\n",
    "            end\n",
    "        end\n",
    "    end\n",
    "    \n",
    "    writedlm(\"TorquatoNR_N$(NSides)_Alfa0P0_1_$(k).csv\", N_R, ',')\n",
    "end"
   ]
  },
  {
   "cell_type": "code",
   "execution_count": null,
   "metadata": {},
   "outputs": [],
   "source": []
  }
 ],
 "metadata": {
  "kernelspec": {
   "display_name": "Julia 1.3.0",
   "language": "julia",
   "name": "julia-1.3"
  },
  "language_info": {
   "file_extension": ".jl",
   "mimetype": "application/julia",
   "name": "julia",
   "version": "1.3.0"
  }
 },
 "nbformat": 4,
 "nbformat_minor": 2
}
