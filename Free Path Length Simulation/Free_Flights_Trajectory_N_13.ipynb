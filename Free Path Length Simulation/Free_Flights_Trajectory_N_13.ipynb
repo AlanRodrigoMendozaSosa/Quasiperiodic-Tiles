{
 "cells": [
  {
   "cell_type": "markdown",
   "metadata": {},
   "source": [
    "# Packages and necessary functions"
   ]
  },
  {
   "cell_type": "code",
   "execution_count": null,
   "metadata": {},
   "outputs": [],
   "source": [
    "#The following packages are required to read and write files, as well as generate linear algebra calculations\n",
    "using DelimitedFiles\n",
    "using LinearAlgebra\n",
    "\n",
    "#The following files with Julia functions are required\n",
    "include(\"Operaciones_Basicas.jl\")\n",
    "include(\"Red_Dual.jl\")\n",
    "include(\"Separacion_Arreglos_X_Y.jl\")\n",
    "include(\"Generador_Vecindades_Pto_Arbitrario.jl\")\n",
    "include(\"voronoi.jl\")\n",
    "include(\"Algoritmo_Radio.jl\")\n",
    "include(\"Algoritmo_Voronoi.jl\")\n",
    "include(\"Algoritmo_Cluster_Principal_Iterado.jl\")\n",
    "include(\"Algoritmo_Parche_Cuadrado.jl\")\n",
    "include(\"Dentro_Fuera_Poligono.jl\")\n",
    "include(\"Diccionario_Indices_Centroides_Voronoi.jl\")\n",
    "include(\"Algoritmo_Dinamica_FFD.jl\")"
   ]
  },
  {
   "cell_type": "markdown",
   "metadata": {},
   "source": [
    "#### We load the functions that determine the trajectory of the particle when entering and leaving the Voronoi polygons"
   ]
  },
  {
   "cell_type": "code",
   "execution_count": null,
   "metadata": {},
   "outputs": [],
   "source": [
    "include(\"Esferas_Duras_Trayectoria_Recta.jl\")"
   ]
  },
  {
   "cell_type": "code",
   "execution_count": null,
   "metadata": {},
   "outputs": [],
   "source": [
    "#We verify the size of the obstacle to consider\n",
    "Radio_Obstaculo"
   ]
  },
  {
   "cell_type": "markdown",
   "metadata": {},
   "source": [
    "#### We generate the parameters that determine the type of quasiperiodic arrangement that we are going to build"
   ]
  },
  {
   "cell_type": "code",
   "execution_count": null,
   "metadata": {},
   "outputs": [],
   "source": [
    "NSides = 13; #Rotational symmetry of the quasiperiodic lattice\n",
    "Error_Margin = 3; #Margin of error in the integers \"n\" associated with the star vectors of the GDM\n",
    "Star_Vectors = [[BigFloat(1),0]]; #Arrangement that will contain the star vectors\n",
    "for i in 1:(NSides-1)\n",
    "    push!(Star_Vectors, [cos((2*i)*pi/NSides), sin((2*i)*pi/NSides)]); #Vertices of the polygon with \"NSides\" sides\n",
    "end\n",
    "Alphas_Array = fill(0.2, NSides); #Array with the alpha constants of the GDM\n",
    "Average_Distance_Stripes = fill(NSides/2, NSides); #Array with the average spacing between stripes\n",
    "\n",
    "#We load the information to generate the \"circular\" patches around an arbitrary point\n",
    "Patch_Information = readdlm(\"Informacion_Parche_N_$(NSides).csv\", BigFloat);\n",
    "Reduction_Factor = 0.5; #Factor to generate a \"safe radius\""
   ]
  },
  {
   "cell_type": "markdown",
   "metadata": {},
   "source": [
    "#### We define conditions on the flight of a particle"
   ]
  },
  {
   "cell_type": "code",
   "execution_count": null,
   "metadata": {},
   "outputs": [],
   "source": [
    "Long_Fly_Time = 5000000; #Maximum flight time that each particle will have\n",
    "Number_Segments = 10; #Number of flights iterations to be calculated\n",
    "Number_Free_Flies = 1000; #Number of free flights to be calculated for each iteration"
   ]
  },
  {
   "cell_type": "markdown",
   "metadata": {},
   "source": [
    "#### We obtain the first collision of a particle and its velocity after the collision"
   ]
  },
  {
   "cell_type": "code",
   "execution_count": null,
   "metadata": {},
   "outputs": [],
   "source": [
    "function first_Collition(Error_Margin, Average_Distance_Stripes, Star_Vectors, Alphas_Array, Patch_Information, Reduction_Factor, Long_Fly_Time)\n",
    "    Array_Free_Fly = []; #Array where the length of the particle's first free flight will be saved\n",
    "    Initial_Position_Obstacle = [0.0, 0.0]; #Position of a particle after colliding with an obstacle\n",
    "    Initial_Velocity_Obstacle = [0.0, 0.0]; #Velocity of a particle after colliding with an obstacle\n",
    "    \n",
    "    APoint_Initial = [0.0,0.0]; #Array that will contain the initial position of the particles\n",
    "    Counter_Iterations = 0; #Counter for the number of attempts made to find a valid starting position.\n",
    "    SL = 1e6; #Size of the half side of the square centered on the (0,0) where a starting position is sought.\n",
    "    \n",
    "    #We look for a valid starting position in 100 attempts, if it is not found, it starts at (0,0)\n",
    "    while Counter_Iterations < 100\n",
    "        Counter_Iterations += 1;\n",
    "        Test_Point = punto_Arbitrario(SL); #We generate an arbitrary point inside the square centered on the (0,0)\n",
    "        Exclusion_Radius = 2; #Radius of a circle centered on Test_Point to filter possible container polygons\n",
    "        \n",
    "        #We generate the local neighborhood within the circle with radius \"Exclusion_Radius\" around the Test_Point point\n",
    "        Dual_Points_R = region_Local_Radio(Error_Margin, Exclusion_Radius, Average_Distance_Stripes, Star_Vectors, Alphas_Array, Test_Point);\n",
    "        X_R,Y_R = separacion_Arreglo_de_Arreglos_2D(Dual_Points_R);\n",
    "        \n",
    "        #We obtain the vertices of the container polygon from Test_Point\n",
    "        Vertices_Container_Polygon = poligono_Contenedor_Radio(X_R,Y_R,Test_Point);\n",
    "        \n",
    "        #We check if Test_Point falls into some obstacle centered on the vertices of the container polygon\n",
    "        if posicion_Valida_Obstaculos_Circulares(Test_Point, Vertices_Container_Polygon)\n",
    "            APoint_Initial = Test_Point; break #We redefine the starting point and close the While loop\n",
    "        end\n",
    "    end\n",
    "    \n",
    "    println(\"The initial position is $(APoint_Initial)\")\n",
    "    \n",
    "    #Algorithm that calculates the trajectories of the different particles\n",
    "    Initial_Position_Obstacle, Initial_Velocity_Obstacle = first_Fly(Patch_Information, Reduction_Factor, Average_Distance_Stripes, Star_Vectors, Alphas_Array, APoint_Initial, Long_Fly_Time, Array_Free_Fly, Initial_Position_Obstacle, Initial_Velocity_Obstacle, cambio_Celda_Esferas_Duras_Trayectoria_Recta, estado_Tras_Tiempo_Rectas);\n",
    "\n",
    "    return Initial_Position_Obstacle, Initial_Velocity_Obstacle\n",
    "end"
   ]
  },
  {
   "cell_type": "code",
   "execution_count": null,
   "metadata": {},
   "outputs": [],
   "source": [
    "Initial_Position_Obstacle, Initial_Velocity_Obstacle = first_Collition(Error_Margin, Average_Distance_Stripes, Star_Vectors, Alphas_Array, Patch_Information, Reduction_Factor, Long_Fly_Time);"
   ]
  },
  {
   "cell_type": "markdown",
   "metadata": {},
   "source": [
    "#### Let us obtain the subsequent collisions of the particle"
   ]
  },
  {
   "cell_type": "code",
   "execution_count": null,
   "metadata": {},
   "outputs": [],
   "source": [
    "function multiple_Collitions(Number_Segments, Number_Free_Flies, Average_Distance_Stripes, Star_Vectors, Alphas_Array, Patch_Information, Reduction_Factor, Long_Fly_Time, Initial_Position_Obstacle, Initial_Velocity_Obstacle)\n",
    "    Free_Fly_Global = []; #Array where all free flight times will go\n",
    "\n",
    "    for δ in 1:Number_Segments\n",
    "        #We iterate on the number of collisions with obstacles we are looking for\n",
    "        for γ in 1:Number_Free_Flies\n",
    "            tiempo1 = time()\n",
    "            open(\"Estado_FFD_N_13_Vuelos_Libres_1.txt\", \"w\") do file\n",
    "                write(file, \"Estamos calculando el vuelo libre $(γ) de la iteración $(δ).\")\n",
    "            end\n",
    "\n",
    "            Array_Free_Fly = []; #Arreglo where particle free flight length will be saved\n",
    "            #We define the initial position as the last position of the particle when colliding with an obstacle\n",
    "            APoint_Initial = copy(Initial_Position_Obstacle);\n",
    "\n",
    "            Initial_Position_Obstacle, Initial_Velocity_Obstacle = multiple_Flies(Patch_Information, Reduction_Factor, Average_Distance_Stripes, Star_Vectors, Alphas_Array, APoint_Initial, Long_Fly_Time, Array_Free_Fly, Initial_Position_Obstacle, Initial_Velocity_Obstacle, cambio_Celda_Esferas_Duras_Trayectoria_Recta, estado_Tras_Tiempo_Rectas)\n",
    "\n",
    "            #We save the length of the free flight that we just performed\n",
    "            Free_Fly_Global = vcat(Free_Fly_Global, Array_Free_Fly)\n",
    "            tiempo2 = time()\n",
    "            println(tiempo2 - tiempo1)\n",
    "        end\n",
    "\n",
    "        writedlm(\"FFD_N_13_Vuelos_Libres_1.csv\", Free_Fly_Global)\n",
    "    end\n",
    "    \n",
    "    return Free_Fly_Global\n",
    "end"
   ]
  },
  {
   "cell_type": "code",
   "execution_count": null,
   "metadata": {
    "scrolled": true
   },
   "outputs": [],
   "source": [
    "Array_Free_Flies = multiple_Collitions(Number_Segments, Number_Free_Flies, Average_Distance_Stripes, Star_Vectors, Alphas_Array, Patch_Information, Reduction_Factor, Long_Fly_Time, Initial_Position_Obstacle, Initial_Velocity_Obstacle);"
   ]
  },
  {
   "cell_type": "code",
   "execution_count": null,
   "metadata": {},
   "outputs": [],
   "source": []
  }
 ],
 "metadata": {
  "kernelspec": {
   "display_name": "Julia 1.3.0",
   "language": "julia",
   "name": "julia-1.3"
  },
  "language_info": {
   "file_extension": ".jl",
   "mimetype": "application/julia",
   "name": "julia",
   "version": "1.3.0"
  }
 },
 "nbformat": 4,
 "nbformat_minor": 2
}
